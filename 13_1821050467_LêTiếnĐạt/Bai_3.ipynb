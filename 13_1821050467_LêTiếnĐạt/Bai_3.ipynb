{
 "cells": [
  {
   "cell_type": "code",
   "execution_count": 17,
   "metadata": {},
   "outputs": [],
   "source": [
    "import math"
   ]
  },
  {
   "cell_type": "code",
   "execution_count": 46,
   "metadata": {},
   "outputs": [],
   "source": [
    "A = [[2, 4],[8, 3], [5, 6]]\n",
    "B = [[2, 2],[8, 3], [3, 6], [3, 4], [2, 1], [1, 2],[5, 3], [3, 6], [3, 8], [2, 3]]\n",
    "\n"
   ]
  },
  {
   "cell_type": "code",
   "execution_count": 101,
   "metadata": {},
   "outputs": [],
   "source": [
    "def tinhKhoangCach(A, B):\n",
    "    a = []\n",
    "    for i in range (0,3):\n",
    "        a.append([])\n",
    "        for j in range (0,10):\n",
    "            x = pow(A[i][0]-A[i][1], 2)\n",
    "            y = pow(B[j][0]-B[j][1], 2)\n",
    "            z = x + y\n",
    "#             x = math.sqrt(pow(A[i][0]+A[i][1], 2)-pow(B[j][0]+B[j][1], 2))\n",
    "            s = math.sqrt(z)\n",
    "            a[i].append(z)\n",
    "    return a\n",
    "            \n",
    "    "
   ]
  },
  {
   "cell_type": "code",
   "execution_count": 102,
   "metadata": {},
   "outputs": [
    {
     "data": {
      "text/plain": [
       "20"
      ]
     },
     "execution_count": 102,
     "metadata": {},
     "output_type": "execute_result"
    }
   ],
   "source": [
    "pow(A[0][0]+A[0][1], 2)-pow(B[0][0]+B[0][1], 2)"
   ]
  },
  {
   "cell_type": "code",
   "execution_count": 103,
   "metadata": {},
   "outputs": [
    {
     "data": {
      "text/plain": [
       "[[4, 29, 13, 5, 5, 5, 8, 13, 29, 5],\n",
       " [25, 50, 34, 26, 26, 26, 29, 34, 50, 26],\n",
       " [1, 26, 10, 2, 2, 2, 5, 10, 26, 2]]"
      ]
     },
     "execution_count": 103,
     "metadata": {},
     "output_type": "execute_result"
    }
   ],
   "source": [
    "tinhKhoangCach(A, B)"
   ]
  },
  {
   "cell_type": "code",
   "execution_count": null,
   "metadata": {},
   "outputs": [],
   "source": []
  }
 ],
 "metadata": {
  "kernelspec": {
   "display_name": "Python 3.7.6 64-bit",
   "language": "python",
   "name": "python37664bitd4a2f2800ab94c20a4188e87f700acfb"
  },
  "language_info": {
   "codemirror_mode": {
    "name": "ipython",
    "version": 3
   },
   "file_extension": ".py",
   "mimetype": "text/x-python",
   "name": "python",
   "nbconvert_exporter": "python",
   "pygments_lexer": "ipython3",
   "version": "3.7.6"
  }
 },
 "nbformat": 4,
 "nbformat_minor": 2
}
