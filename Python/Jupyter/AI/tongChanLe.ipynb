{
 "cells": [
  {
   "cell_type": "code",
   "execution_count": 1,
   "metadata": {},
   "outputs": [
    {
     "name": "stdout",
     "output_type": "stream",
     "text": [
      "84000000\n"
     ]
    }
   ],
   "source": [
    "# tính lương cty phải trả\n",
    "s = 1400000*1*8+1400000*4*5+1400000*4*8\n",
    "print(s)"
   ]
  },
  {
   "cell_type": "code",
   "execution_count": 5,
   "metadata": {},
   "outputs": [
    {
     "name": "stdout",
     "output_type": "stream",
     "text": [
      "720\n"
     ]
    }
   ],
   "source": [
    "def giaiThua(n):\n",
    "    return 1 if n < 2 else n * giaiThua(n-1)\n",
    "print(giaiThua(6))"
   ]
  },
  {
   "cell_type": "code",
   "execution_count": 31,
   "metadata": {},
   "outputs": [
    {
     "name": "stdout",
     "output_type": "stream",
     "text": [
      "20\n",
      "16\n"
     ]
    }
   ],
   "source": [
    "def chanLe(n):\n",
    "    a = str(n)\n",
    "    s = s1 = 0\n",
    "    for i in a:\n",
    "        if int(i)%2 == 0:\n",
    "            s += int(i)\n",
    "        else:\n",
    "            s1 += int(i)\n",
    "    return s, s1\n",
    "s3, s4 = chanLe(12345678)\n",
    "print(s3)\n",
    "print(s4)"
   ]
  },
  {
   "cell_type": "code",
   "execution_count": null,
   "metadata": {},
   "outputs": [],
   "source": []
  }
 ],
 "metadata": {
  "kernelspec": {
   "display_name": "Python 3.7.6 64-bit",
   "language": "python",
   "name": "python37664bitd4a2f2800ab94c20a4188e87f700acfb"
  },
  "language_info": {
   "codemirror_mode": {
    "name": "ipython",
    "version": 3
   },
   "file_extension": ".py",
   "mimetype": "text/x-python",
   "name": "python",
   "nbconvert_exporter": "python",
   "pygments_lexer": "ipython3",
   "version": "3.7.6"
  }
 },
 "nbformat": 4,
 "nbformat_minor": 2
}
