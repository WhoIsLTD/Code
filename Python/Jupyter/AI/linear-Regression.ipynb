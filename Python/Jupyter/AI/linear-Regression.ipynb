{
 "cells": [
  {
   "cell_type": "code",
   "execution_count": 1,
   "metadata": {},
   "outputs": [
    {
     "name": "stdout",
     "output_type": "stream",
     "text": [
      "w =  [[11.47219573]\n",
      " [ 6.64817643]\n",
      " [11.96040428]]\n",
      "y1= 479.4981957028261\n"
     ]
    }
   ],
   "source": [
    "import numpy as np \n",
    "import matplotlib.pyplot as plt\n",
    "# RANGE (KM)\n",
    "X1 = np.array([[3.2, 3.2, 2.3, 8.8, 1.2, 9.9]]).T\n",
    "# AREA (POW(m,2))\n",
    "X2 = np.array([[30, 32.4138, 34.8276, 39.6552, 45.333, 47.321]]).T\n",
    "# PRICE (MILLION VND)\n",
    "X3 = np.array([[376.895, 407.323, 482.271, 542.623, 549.214, 646.163]]).T\n",
    "one = np.ones((X1.shape[0], 1))\n",
    "Xbar = np.concatenate((one, X1), axis = 1)\n",
    "\n",
    "A = np.dot(Xbar.T, Xbar)\n",
    "b = np.dot(Xbar.T, y)\n",
    "w = np.dot(np.linalg.pinv(A), b)\n",
    "print('w = ', w)\n",
    "w_0 = w[0][0]\n",
    "w_1 = w[1][0]\n",
    "w_2 = w[2][0]\n",
    "\n",
    "\n",
    "y1 = w_2*37.2414+w_1*3.4 + w_0\n",
    "\n",
    "\n",
    "print( 'y1=',y1 )"
   ]
  },
  {
   "cell_type": "code",
   "execution_count": null,
   "metadata": {},
   "outputs": [],
   "source": []
  }
 ],
 "metadata": {
  "kernelspec": {
   "display_name": "Python 3",
   "language": "python",
   "name": "python3"
  },
  "language_info": {
   "codemirror_mode": {
    "name": "ipython",
    "version": 3
   },
   "file_extension": ".py",
   "mimetype": "text/x-python",
   "name": "python",
   "nbconvert_exporter": "python",
   "pygments_lexer": "ipython3",
   "version": "3.7.4"
  }
 },
 "nbformat": 4,
 "nbformat_minor": 2
}
