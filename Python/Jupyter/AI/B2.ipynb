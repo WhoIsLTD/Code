{
 "cells": [
  {
   "cell_type": "code",
   "execution_count": 10,
   "metadata": {},
   "outputs": [
    {
     "name": "stdout",
     "output_type": "stream",
     "text": [
      "nhap so may: 3\n",
      "[[2], [1, 1], [4, 2, 2]]\n",
      "[2, 1, 4, 0, 3, 5]\n",
      "[[8], [5, 2], [5, 1, 1]]\n"
     ]
    }
   ],
   "source": [
    "LK=[2,5,8,1,5,1]\n",
    "somay=int(input('nhap so may: '))\n",
    "may=[]\n",
    "tgmay=[]\n",
    "for i in range(0,somay):\n",
    "    may.append([])\n",
    "    tgmay.append([])\n",
    "Lkdx=[]\n",
    "def timmax(lk,lkdx):\n",
    "    tgmax=0\n",
    "    for i in range(0,6):\n",
    "        if(lk[i]>tgmax and i not in lkdx):\n",
    "            tgmax=lk[i]\n",
    "            lkmax=i\n",
    "    lkdx.append(lkmax)\n",
    "    return tgmax,lkmax\n",
    "for i in range (0,somay):\n",
    "    tg,lkso=timmax(LK,Lkdx)\n",
    "    may[i].append(lkso)\n",
    "    tgmay[i].append(tg)\n",
    "\n",
    " \n",
    "\n",
    "#print(summin)\n",
    "for i in range(0,6-somay):\n",
    "    smin=100\n",
    "    for i in range (0,somay):\n",
    "        if(sum(tgmay[i])<smin):\n",
    "            smin=sum(tgmay[i])\n",
    "            imin=i\n",
    "    \n",
    "    tgmin,lkmin=timmax(LK,Lkdx) \n",
    "    may[imin].append(imin)\n",
    "    tgmay[imin].append(tgmin)\n",
    "print(may)\n",
    "print(Lkdx)\n",
    "print(tgmay)"
   ]
  },
  {
   "cell_type": "code",
   "execution_count": null,
   "metadata": {},
   "outputs": [],
   "source": []
  },
  {
   "cell_type": "code",
   "execution_count": null,
   "metadata": {},
   "outputs": [],
   "source": []
  }
 ],
 "metadata": {
  "kernelspec": {
   "display_name": "Python 3.7.6 64-bit",
   "language": "python",
   "name": "python37664bitd4a2f2800ab94c20a4188e87f700acfb"
  },
  "language_info": {
   "codemirror_mode": {
    "name": "ipython",
    "version": 3
   },
   "file_extension": ".py",
   "mimetype": "text/x-python",
   "name": "python",
   "nbconvert_exporter": "python",
   "pygments_lexer": "ipython3",
   "version": "3.7.6"
  }
 },
 "nbformat": 4,
 "nbformat_minor": 2
}
