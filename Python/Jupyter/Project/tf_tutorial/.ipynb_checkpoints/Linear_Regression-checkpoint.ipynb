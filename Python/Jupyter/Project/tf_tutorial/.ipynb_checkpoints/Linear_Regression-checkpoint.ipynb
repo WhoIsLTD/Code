{
 "cells": [
  {
   "cell_type": "code",
   "execution_count": 1,
   "metadata": {},
   "outputs": [],
   "source": [
    "import pandas as pd\n",
    "import numpy as np\n",
    "import matplotlib.pyplot as plt\n",
    "import tensorflow as tf"
   ]
  },
  {
   "cell_type": "code",
   "execution_count": 2,
   "metadata": {
    "scrolled": true
   },
   "outputs": [],
   "source": [
    "path = \"VD_Regression-Chuan hoa.csv\"\n",
    "df = pd.read_csv(path)"
   ]
  },
  {
   "cell_type": "code",
   "execution_count": 3,
   "metadata": {},
   "outputs": [
    {
     "data": {
      "text/html": [
       "<div>\n",
       "<style scoped>\n",
       "    .dataframe tbody tr th:only-of-type {\n",
       "        vertical-align: middle;\n",
       "    }\n",
       "\n",
       "    .dataframe tbody tr th {\n",
       "        vertical-align: top;\n",
       "    }\n",
       "\n",
       "    .dataframe thead th {\n",
       "        text-align: right;\n",
       "    }\n",
       "</style>\n",
       "<table border=\"1\" class=\"dataframe\">\n",
       "  <thead>\n",
       "    <tr style=\"text-align: right;\">\n",
       "      <th></th>\n",
       "      <th>STT</th>\n",
       "      <th>LOAI XE</th>\n",
       "      <th>NAm SX</th>\n",
       "      <th>Tuoi xe</th>\n",
       "      <th>So KM</th>\n",
       "      <th>so km( van)</th>\n",
       "      <th>GIA BAN (trieu dong)</th>\n",
       "      <th>Gia ban(tram trieu dong)</th>\n",
       "    </tr>\n",
       "  </thead>\n",
       "  <tbody>\n",
       "    <tr>\n",
       "      <th>0</th>\n",
       "      <td>1</td>\n",
       "      <td>Navara</td>\n",
       "      <td>2015</td>\n",
       "      <td>5</td>\n",
       "      <td>63000</td>\n",
       "      <td>6.3000</td>\n",
       "      <td>568</td>\n",
       "      <td>5.68</td>\n",
       "    </tr>\n",
       "    <tr>\n",
       "      <th>1</th>\n",
       "      <td>2</td>\n",
       "      <td>Navara</td>\n",
       "      <td>2016</td>\n",
       "      <td>4</td>\n",
       "      <td>19253</td>\n",
       "      <td>1.9253</td>\n",
       "      <td>470</td>\n",
       "      <td>4.70</td>\n",
       "    </tr>\n",
       "    <tr>\n",
       "      <th>2</th>\n",
       "      <td>3</td>\n",
       "      <td>Navara</td>\n",
       "      <td>2012</td>\n",
       "      <td>8</td>\n",
       "      <td>150000</td>\n",
       "      <td>15.0000</td>\n",
       "      <td>325</td>\n",
       "      <td>3.25</td>\n",
       "    </tr>\n",
       "    <tr>\n",
       "      <th>3</th>\n",
       "      <td>4</td>\n",
       "      <td>Navara</td>\n",
       "      <td>2017</td>\n",
       "      <td>3</td>\n",
       "      <td>45000</td>\n",
       "      <td>4.5000</td>\n",
       "      <td>539</td>\n",
       "      <td>5.39</td>\n",
       "    </tr>\n",
       "    <tr>\n",
       "      <th>4</th>\n",
       "      <td>5</td>\n",
       "      <td>Navara</td>\n",
       "      <td>2016</td>\n",
       "      <td>4</td>\n",
       "      <td>40000</td>\n",
       "      <td>4.0000</td>\n",
       "      <td>499</td>\n",
       "      <td>4.99</td>\n",
       "    </tr>\n",
       "    <tr>\n",
       "      <th>...</th>\n",
       "      <td>...</td>\n",
       "      <td>...</td>\n",
       "      <td>...</td>\n",
       "      <td>...</td>\n",
       "      <td>...</td>\n",
       "      <td>...</td>\n",
       "      <td>...</td>\n",
       "      <td>...</td>\n",
       "    </tr>\n",
       "    <tr>\n",
       "      <th>96</th>\n",
       "      <td>97</td>\n",
       "      <td>Navara</td>\n",
       "      <td>2016</td>\n",
       "      <td>4</td>\n",
       "      <td>46000</td>\n",
       "      <td>4.6000</td>\n",
       "      <td>518</td>\n",
       "      <td>5.18</td>\n",
       "    </tr>\n",
       "    <tr>\n",
       "      <th>97</th>\n",
       "      <td>98</td>\n",
       "      <td>Navara</td>\n",
       "      <td>2014</td>\n",
       "      <td>6</td>\n",
       "      <td>60000</td>\n",
       "      <td>6.0000</td>\n",
       "      <td>307</td>\n",
       "      <td>3.07</td>\n",
       "    </tr>\n",
       "    <tr>\n",
       "      <th>98</th>\n",
       "      <td>99</td>\n",
       "      <td>Navara</td>\n",
       "      <td>2016</td>\n",
       "      <td>4</td>\n",
       "      <td>30000</td>\n",
       "      <td>3.0000</td>\n",
       "      <td>606</td>\n",
       "      <td>6.06</td>\n",
       "    </tr>\n",
       "    <tr>\n",
       "      <th>99</th>\n",
       "      <td>100</td>\n",
       "      <td>Navara</td>\n",
       "      <td>2016</td>\n",
       "      <td>4</td>\n",
       "      <td>70000</td>\n",
       "      <td>7.0000</td>\n",
       "      <td>615</td>\n",
       "      <td>6.15</td>\n",
       "    </tr>\n",
       "    <tr>\n",
       "      <th>100</th>\n",
       "      <td>101</td>\n",
       "      <td>Navara</td>\n",
       "      <td>2017</td>\n",
       "      <td>3</td>\n",
       "      <td>28000</td>\n",
       "      <td>2.8000</td>\n",
       "      <td>545</td>\n",
       "      <td>5.45</td>\n",
       "    </tr>\n",
       "  </tbody>\n",
       "</table>\n",
       "<p>101 rows × 8 columns</p>\n",
       "</div>"
      ],
      "text/plain": [
       "     STT LOAI XE  NAm SX  Tuoi xe   So KM  so km( van)  GIA BAN (trieu dong)  \\\n",
       "0      1  Navara    2015        5   63000       6.3000                   568   \n",
       "1      2  Navara    2016        4   19253       1.9253                   470   \n",
       "2      3  Navara    2012        8  150000      15.0000                   325   \n",
       "3      4  Navara    2017        3   45000       4.5000                   539   \n",
       "4      5  Navara    2016        4   40000       4.0000                   499   \n",
       "..   ...     ...     ...      ...     ...          ...                   ...   \n",
       "96    97  Navara    2016        4   46000       4.6000                   518   \n",
       "97    98  Navara    2014        6   60000       6.0000                   307   \n",
       "98    99  Navara    2016        4   30000       3.0000                   606   \n",
       "99   100  Navara    2016        4   70000       7.0000                   615   \n",
       "100  101  Navara    2017        3   28000       2.8000                   545   \n",
       "\n",
       "     Gia ban(tram trieu dong)  \n",
       "0                        5.68  \n",
       "1                        4.70  \n",
       "2                        3.25  \n",
       "3                        5.39  \n",
       "4                        4.99  \n",
       "..                        ...  \n",
       "96                       5.18  \n",
       "97                       3.07  \n",
       "98                       6.06  \n",
       "99                       6.15  \n",
       "100                      5.45  \n",
       "\n",
       "[101 rows x 8 columns]"
      ]
     },
     "execution_count": 3,
     "metadata": {},
     "output_type": "execute_result"
    }
   ],
   "source": [
    "df\n"
   ]
  },
  {
   "cell_type": "code",
   "execution_count": 4,
   "metadata": {},
   "outputs": [],
   "source": [
    "del df['NAm SX']"
   ]
  },
  {
   "cell_type": "code",
   "execution_count": 5,
   "metadata": {},
   "outputs": [],
   "source": [
    "del df['So KM']"
   ]
  },
  {
   "cell_type": "code",
   "execution_count": 6,
   "metadata": {},
   "outputs": [],
   "source": [
    "del df['GIA BAN (trieu dong)']"
   ]
  },
  {
   "cell_type": "code",
   "execution_count": 7,
   "metadata": {},
   "outputs": [
    {
     "data": {
      "text/html": [
       "<div>\n",
       "<style scoped>\n",
       "    .dataframe tbody tr th:only-of-type {\n",
       "        vertical-align: middle;\n",
       "    }\n",
       "\n",
       "    .dataframe tbody tr th {\n",
       "        vertical-align: top;\n",
       "    }\n",
       "\n",
       "    .dataframe thead th {\n",
       "        text-align: right;\n",
       "    }\n",
       "</style>\n",
       "<table border=\"1\" class=\"dataframe\">\n",
       "  <thead>\n",
       "    <tr style=\"text-align: right;\">\n",
       "      <th></th>\n",
       "      <th>STT</th>\n",
       "      <th>LOAI XE</th>\n",
       "      <th>Tuoi xe</th>\n",
       "      <th>so km( van)</th>\n",
       "      <th>Gia ban(tram trieu dong)</th>\n",
       "    </tr>\n",
       "  </thead>\n",
       "  <tbody>\n",
       "    <tr>\n",
       "      <th>0</th>\n",
       "      <td>1</td>\n",
       "      <td>Navara</td>\n",
       "      <td>5</td>\n",
       "      <td>6.3000</td>\n",
       "      <td>5.68</td>\n",
       "    </tr>\n",
       "    <tr>\n",
       "      <th>1</th>\n",
       "      <td>2</td>\n",
       "      <td>Navara</td>\n",
       "      <td>4</td>\n",
       "      <td>1.9253</td>\n",
       "      <td>4.70</td>\n",
       "    </tr>\n",
       "    <tr>\n",
       "      <th>2</th>\n",
       "      <td>3</td>\n",
       "      <td>Navara</td>\n",
       "      <td>8</td>\n",
       "      <td>15.0000</td>\n",
       "      <td>3.25</td>\n",
       "    </tr>\n",
       "    <tr>\n",
       "      <th>3</th>\n",
       "      <td>4</td>\n",
       "      <td>Navara</td>\n",
       "      <td>3</td>\n",
       "      <td>4.5000</td>\n",
       "      <td>5.39</td>\n",
       "    </tr>\n",
       "    <tr>\n",
       "      <th>4</th>\n",
       "      <td>5</td>\n",
       "      <td>Navara</td>\n",
       "      <td>4</td>\n",
       "      <td>4.0000</td>\n",
       "      <td>4.99</td>\n",
       "    </tr>\n",
       "    <tr>\n",
       "      <th>...</th>\n",
       "      <td>...</td>\n",
       "      <td>...</td>\n",
       "      <td>...</td>\n",
       "      <td>...</td>\n",
       "      <td>...</td>\n",
       "    </tr>\n",
       "    <tr>\n",
       "      <th>96</th>\n",
       "      <td>97</td>\n",
       "      <td>Navara</td>\n",
       "      <td>4</td>\n",
       "      <td>4.6000</td>\n",
       "      <td>5.18</td>\n",
       "    </tr>\n",
       "    <tr>\n",
       "      <th>97</th>\n",
       "      <td>98</td>\n",
       "      <td>Navara</td>\n",
       "      <td>6</td>\n",
       "      <td>6.0000</td>\n",
       "      <td>3.07</td>\n",
       "    </tr>\n",
       "    <tr>\n",
       "      <th>98</th>\n",
       "      <td>99</td>\n",
       "      <td>Navara</td>\n",
       "      <td>4</td>\n",
       "      <td>3.0000</td>\n",
       "      <td>6.06</td>\n",
       "    </tr>\n",
       "    <tr>\n",
       "      <th>99</th>\n",
       "      <td>100</td>\n",
       "      <td>Navara</td>\n",
       "      <td>4</td>\n",
       "      <td>7.0000</td>\n",
       "      <td>6.15</td>\n",
       "    </tr>\n",
       "    <tr>\n",
       "      <th>100</th>\n",
       "      <td>101</td>\n",
       "      <td>Navara</td>\n",
       "      <td>3</td>\n",
       "      <td>2.8000</td>\n",
       "      <td>5.45</td>\n",
       "    </tr>\n",
       "  </tbody>\n",
       "</table>\n",
       "<p>101 rows × 5 columns</p>\n",
       "</div>"
      ],
      "text/plain": [
       "     STT LOAI XE  Tuoi xe  so km( van)  Gia ban(tram trieu dong)\n",
       "0      1  Navara        5       6.3000                      5.68\n",
       "1      2  Navara        4       1.9253                      4.70\n",
       "2      3  Navara        8      15.0000                      3.25\n",
       "3      4  Navara        3       4.5000                      5.39\n",
       "4      5  Navara        4       4.0000                      4.99\n",
       "..   ...     ...      ...          ...                       ...\n",
       "96    97  Navara        4       4.6000                      5.18\n",
       "97    98  Navara        6       6.0000                      3.07\n",
       "98    99  Navara        4       3.0000                      6.06\n",
       "99   100  Navara        4       7.0000                      6.15\n",
       "100  101  Navara        3       2.8000                      5.45\n",
       "\n",
       "[101 rows x 5 columns]"
      ]
     },
     "execution_count": 7,
     "metadata": {},
     "output_type": "execute_result"
    }
   ],
   "source": [
    "df"
   ]
  },
  {
   "cell_type": "code",
   "execution_count": 8,
   "metadata": {},
   "outputs": [],
   "source": [
    "x_data = df.values[:,2:4]"
   ]
  },
  {
   "cell_type": "code",
   "execution_count": 9,
   "metadata": {},
   "outputs": [
    {
     "data": {
      "text/plain": [
       "array([[5, 6.3],\n",
       "       [4, 1.9253],\n",
       "       [8, 15.0],\n",
       "       [3, 4.5],\n",
       "       [4, 4.0],\n",
       "       [3, 4.3],\n",
       "       [3, 1.9],\n",
       "       [7, 6.5],\n",
       "       [1, 3.0],\n",
       "       [2, 1.9],\n",
       "       [2, 1.5],\n",
       "       [5, 8.5],\n",
       "       [6, 8.6],\n",
       "       [7, 7.0],\n",
       "       [5, 4.5],\n",
       "       [4, 7.0],\n",
       "       [3, 4.5],\n",
       "       [3, 3.3],\n",
       "       [7, 5.5],\n",
       "       [3, 4.5],\n",
       "       [4, 8.0],\n",
       "       [2, 3.8],\n",
       "       [7, 8.0],\n",
       "       [4, 5.3],\n",
       "       [8, 15.0],\n",
       "       [2, 2.5],\n",
       "       [2, 0.9],\n",
       "       [2, 1.6],\n",
       "       [2, 2.5],\n",
       "       [3, 4.0],\n",
       "       [7, 11.8],\n",
       "       [5, 4.5],\n",
       "       [6, 6.0],\n",
       "       [3, 1.9],\n",
       "       [2, 1.2],\n",
       "       [3, 3.0],\n",
       "       [4, 4.2],\n",
       "       [7, 0.6],\n",
       "       [4, 4.2],\n",
       "       [3, 2.8],\n",
       "       [4, 6.1],\n",
       "       [3, 2.6],\n",
       "       [2, 1.4],\n",
       "       [4, 5.3],\n",
       "       [7, 6.5],\n",
       "       [8, 15.0],\n",
       "       [7, 6.5],\n",
       "       [2, 0.9],\n",
       "       [4, 3.2],\n",
       "       [3, 1.2],\n",
       "       [7, 9.0],\n",
       "       [4, 4.1235],\n",
       "       [8, 1.5],\n",
       "       [5, 4.5],\n",
       "       [2, 0.9],\n",
       "       [4, 3.5],\n",
       "       [5, 4.5],\n",
       "       [2, 1.0],\n",
       "       [4, 0.0],\n",
       "       [2, 0.2436],\n",
       "       [7, 8.5],\n",
       "       [5, 5.1238],\n",
       "       [4, 0.0],\n",
       "       [2, 1.8],\n",
       "       [8, 6.0],\n",
       "       [6, 8.8],\n",
       "       [4, 0.0],\n",
       "       [2, 1.9],\n",
       "       [4, 3.8],\n",
       "       [3, 1.9],\n",
       "       [8, 0.0],\n",
       "       [2, 38.0],\n",
       "       [2, 35.0],\n",
       "       [4, 0.0],\n",
       "       [7, 5.5],\n",
       "       [7, 8.5],\n",
       "       [2, 30.0],\n",
       "       [1, 0.4],\n",
       "       [4, 0.4],\n",
       "       [7, 0.0],\n",
       "       [4, 0.0],\n",
       "       [3, 1.9],\n",
       "       [8, 6.2358],\n",
       "       [3, 3.8],\n",
       "       [7, 7.0],\n",
       "       [7, 8.0],\n",
       "       [3, 4.8],\n",
       "       [7, 9.0],\n",
       "       [2, 3.8],\n",
       "       [2, 1.6],\n",
       "       [8, 0.0],\n",
       "       [9, 11.2],\n",
       "       [6, 6.0],\n",
       "       [2, 0.0],\n",
       "       [2, 0.0],\n",
       "       [4, 5.0],\n",
       "       [4, 4.6],\n",
       "       [6, 6.0],\n",
       "       [4, 3.0],\n",
       "       [4, 7.0],\n",
       "       [3, 2.8]], dtype=object)"
      ]
     },
     "execution_count": 9,
     "metadata": {},
     "output_type": "execute_result"
    }
   ],
   "source": [
    "x_data"
   ]
  },
  {
   "cell_type": "code",
   "execution_count": 10,
   "metadata": {},
   "outputs": [],
   "source": [
    "y_data = df.values[:,4:5]"
   ]
  },
  {
   "cell_type": "code",
   "execution_count": 11,
   "metadata": {},
   "outputs": [
    {
     "data": {
      "text/plain": [
       "array([[5.68],\n",
       "       [4.7],\n",
       "       [3.25],\n",
       "       [5.39],\n",
       "       [4.99],\n",
       "       [5.13],\n",
       "       [5.4],\n",
       "       [3.68],\n",
       "       [5.95],\n",
       "       [5.06],\n",
       "       [5.59],\n",
       "       [4.05],\n",
       "       [4.25],\n",
       "       [3.75],\n",
       "       [5.99],\n",
       "       [6.15],\n",
       "       [5.45],\n",
       "       [5.55],\n",
       "       [3.68],\n",
       "       [5.39],\n",
       "       [4.99],\n",
       "       [6.69],\n",
       "       [4.25],\n",
       "       [5.05],\n",
       "       [3.25],\n",
       "       [5.25],\n",
       "       [5.75],\n",
       "       [5.89],\n",
       "       [5.22],\n",
       "       [5.4],\n",
       "       [3.55],\n",
       "       [5.99],\n",
       "       [4.0],\n",
       "       [5.55],\n",
       "       [7.05],\n",
       "       [5.6],\n",
       "       [4.6],\n",
       "       [4.35],\n",
       "       [5.15],\n",
       "       [5.59],\n",
       "       [4.95],\n",
       "       [5.28],\n",
       "       [5.89],\n",
       "       [5.05],\n",
       "       [3.68],\n",
       "       [3.25],\n",
       "       [3.68],\n",
       "       [5.8],\n",
       "       [5.08],\n",
       "       [5.39],\n",
       "       [3.7],\n",
       "       [5.19],\n",
       "       [3.45],\n",
       "       [5.68],\n",
       "       [5.85],\n",
       "       [5.15],\n",
       "       [5.68],\n",
       "       [5.85],\n",
       "       [5.15],\n",
       "       [5.7],\n",
       "       [3.65],\n",
       "       [5.85],\n",
       "       [5.1],\n",
       "       [5.75],\n",
       "       [3.6],\n",
       "       [4.15],\n",
       "       [5.48],\n",
       "       [5.06],\n",
       "       [6.2],\n",
       "       [5.4],\n",
       "       [3.28],\n",
       "       [5.6],\n",
       "       [5.6],\n",
       "       [5.02],\n",
       "       [3.68],\n",
       "       [4.05],\n",
       "       [5.7],\n",
       "       [5.98],\n",
       "       [5.15],\n",
       "       [3.75],\n",
       "       [5.39],\n",
       "       [5.39],\n",
       "       [3.58],\n",
       "       [5.38],\n",
       "       [3.7],\n",
       "       [4.25],\n",
       "       [5.1],\n",
       "       [4.15],\n",
       "       [6.69],\n",
       "       [5.89],\n",
       "       [3.65],\n",
       "       [3.29],\n",
       "       [4.0],\n",
       "       [6.5],\n",
       "       [6.36],\n",
       "       [5.1],\n",
       "       [5.18],\n",
       "       [3.07],\n",
       "       [6.06],\n",
       "       [6.15],\n",
       "       [5.45]], dtype=object)"
      ]
     },
     "execution_count": 11,
     "metadata": {},
     "output_type": "execute_result"
    }
   ],
   "source": [
    "y_data"
   ]
  },
  {
   "cell_type": "code",
   "execution_count": 12,
   "metadata": {},
   "outputs": [],
   "source": [
    "from sklearn.model_selection import train_test_split\n",
    "\n",
    "x_train, x_test, y_train, y_test = train_test_split(x_data, y_data, test_size = 0.2, random_state = 100)"
   ]
  },
  {
   "cell_type": "code",
   "execution_count": 13,
   "metadata": {},
   "outputs": [
    {
     "name": "stdout",
     "output_type": "stream",
     "text": [
      "2\n"
     ]
    }
   ],
   "source": [
    "n_dim = x_train.shape[1]\n",
    "print(n_dim)"
   ]
  },
  {
   "cell_type": "code",
   "execution_count": 14,
   "metadata": {},
   "outputs": [],
   "source": [
    "x = tf.placeholder(tf.float32, [None, n_dim])\n",
    "y = tf.placeholder(tf.float32, [None, 1])"
   ]
  },
  {
   "cell_type": "code",
   "execution_count": 15,
   "metadata": {},
   "outputs": [],
   "source": [
    "w = tf.Variable(tf.ones([n_dim, 1]))\n",
    "\n",
    "b = tf.Variable(np.random.randn(), dtype = tf.float32)"
   ]
  },
  {
   "cell_type": "code",
   "execution_count": 16,
   "metadata": {},
   "outputs": [],
   "source": [
    "pred = tf.add(tf.matmul(x, w), b)"
   ]
  },
  {
   "cell_type": "code",
   "execution_count": 28,
   "metadata": {},
   "outputs": [],
   "source": [
    "loss = tf.reduce_mean(tf.square(pred - y))\n",
    "\n",
    "learning_rate = 0.01\n",
    "\n",
    "optimizer = tf.train.GradientDescentOptimizer(learning_rate = learning_rate).minimize(loss)"
   ]
  },
  {
   "cell_type": "code",
   "execution_count": 18,
   "metadata": {},
   "outputs": [],
   "source": [
    "init = tf.global_variables_initializer()"
   ]
  },
  {
   "cell_type": "code",
   "execution_count": 19,
   "metadata": {},
   "outputs": [],
   "source": [
    "sess = tf.Session()"
   ]
  },
  {
   "cell_type": "code",
   "execution_count": 20,
   "metadata": {},
   "outputs": [
    {
     "name": "stdout",
     "output_type": "stream",
     "text": [
      "epoch 0 Test loss = 30.419578552246094\n",
      "epoch 500 Test loss = 0.4194028973579407\n",
      "epoch 1000 Test loss = 0.16400761902332306\n",
      "epoch 1500 Test loss = 0.1580936759710312\n",
      "epoch 2000 Test loss = 0.1585482507944107\n",
      "epoch 2500 Test loss = 0.1586940884590149\n",
      "epoch 3000 Test loss = 0.15872414410114288\n",
      "epoch 3500 Test loss = 0.1587299108505249\n",
      "epoch 4000 Test loss = 0.1587299108505249\n",
      "epoch 4500 Test loss = 0.1587299108505249\n",
      "training finished\n"
     ]
    }
   ],
   "source": [
    "# Training\n",
    "sess.run(init)\n",
    "epochs = 5000\n",
    "\n",
    "loss_history = []\n",
    "\n",
    "for epoch in range(epochs):\n",
    "    sess.run(optimizer, feed_dict ={x: x_train, y: y_train})\n",
    "    \n",
    "    test_loss = sess.run(loss, feed_dict={x: x_test, y: y_test})\n",
    "    \n",
    "    loss_history.append(test_loss)\n",
    "    \n",
    "    if epoch % 500 == 0:\n",
    "        print(\"epoch {} Test loss = {}\".format(epoch, test_loss))\n",
    "        \n",
    "print(\"training finished\")"
   ]
  },
  {
   "cell_type": "code",
   "execution_count": 21,
   "metadata": {},
   "outputs": [
    {
     "data": {
      "text/plain": [
       "array([[-0.39204454],\n",
       "       [-0.00936028]], dtype=float32)"
      ]
     },
     "execution_count": 21,
     "metadata": {},
     "output_type": "execute_result"
    }
   ],
   "source": [
    "sess.run(w)"
   ]
  },
  {
   "cell_type": "code",
   "execution_count": 22,
   "metadata": {},
   "outputs": [
    {
     "data": {
      "text/plain": [
       "6.749608"
      ]
     },
     "execution_count": 22,
     "metadata": {},
     "output_type": "execute_result"
    }
   ],
   "source": [
    "sess.run(b)"
   ]
  },
  {
   "cell_type": "code",
   "execution_count": 23,
   "metadata": {},
   "outputs": [
    {
     "data": {
      "image/png": "[encoded data removed]",
      "text/plain": [
       "<Figure size 432x288 with 1 Axes>"
      ]
     },
     "metadata": {
      "needs_background": "light"
     },
     "output_type": "display_data"
    }
   ],
   "source": [
    "\n",
    "plt.plot(range(len(loss_history)), loss_history)\n",
    "plt.axis([0, epochs, 0, np.max(loss_history)])\n",
    "plt.show()"
   ]
  },
  {
   "cell_type": "code",
   "execution_count": 43,
   "metadata": {},
   "outputs": [],
   "source": [
    "pred_y = sess.run(pred, feed_dict = {\n",
    "    x : [[4, 5],]\n",
    "})"
   ]
  },
  {
   "cell_type": "code",
   "execution_count": 44,
   "metadata": {},
   "outputs": [
    {
     "name": "stdout",
     "output_type": "stream",
     "text": [
      "[[5.1346283]]\n"
     ]
    }
   ],
   "source": [
    "print(pred_y)"
   ]
  },
  {
   "cell_type": "code",
   "execution_count": 38,
   "metadata": {},
   "outputs": [
    {
     "data": {
      "text/plain": [
       "0.768197092"
      ]
     },
     "execution_count": 38,
     "metadata": {},
     "output_type": "execute_result"
    }
   ],
   "source": [
    "#testtt\n",
    "2*(0.38027936)+0.9*(0.00848708)"
   ]
  },
  {
   "cell_type": "code",
   "execution_count": null,
   "metadata": {},
   "outputs": [],
   "source": []
  }
 ],
 "metadata": {
  "kernelspec": {
   "display_name": "Python 3.7.6 64-bit",
   "language": "python",
   "name": "python37664bitd4a2f2800ab94c20a4188e87f700acfb"
  },
  "language_info": {
   "codemirror_mode": {
    "name": "ipython",
    "version": 3
   },
   "file_extension": ".py",
   "mimetype": "text/x-python",
   "name": "python",
   "nbconvert_exporter": "python",
   "pygments_lexer": "ipython3",
   "version": "3.7.6"
  }
 },
 "nbformat": 4,
 "nbformat_minor": 4
}
