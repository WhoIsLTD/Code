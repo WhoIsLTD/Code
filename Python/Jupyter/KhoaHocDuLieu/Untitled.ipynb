{
 "cells": [
  {
   "cell_type": "code",
   "execution_count": 31,
   "metadata": {},
   "outputs": [
    {
     "name": "stdout",
     "output_type": "stream",
     "text": [
      "nhap vao so kg loại gà 1: 300\n",
      "nhap vao đơn giá loại gà 1: 150000\n",
      "nhap vao so kg loại gà 2: 400\n",
      "nhap vao đơn giá loại gà 2: 100000\n",
      "nhap vao so kg loại gà 3: 1000\n",
      "nhap vao đơn giá loại gà 3: 50000\n",
      "so tien bán dc 1 ngay la:  135000000\n"
     ]
    }
   ],
   "source": [
    "n = int(input(\"nhap vao so kg loại gà 1: \"))\n",
    "n1 = int(input(\"nhap vao đơn giá loại gà 1: \"))\n",
    "n2 = int(input(\"nhap vao so kg loại gà 2: \"))\n",
    "n3 = int(input(\"nhap vao đơn giá loại gà 2: \"))\n",
    "n4 = int(input(\"nhap vao so kg loại gà 3: \"))\n",
    "n5 = int(input(\"nhap vao đơn giá loại gà 3: \"))\n",
    "s = n*n1 + n2*n3 + n4*n5\n",
    "print(\"so tien bán dc 1 ngay la: \", s)"
   ]
  },
  {
   "cell_type": "code",
   "execution_count": 32,
   "metadata": {},
   "outputs": [
    {
     "name": "stdout",
     "output_type": "stream",
     "text": [
      "nhap vao n:30\n",
      "1\n",
      "4\n",
      "9\n",
      "16\n",
      "25\n",
      "tong:  5\n"
     ]
    }
   ],
   "source": [
    "dem = 0\n",
    "n =int(input(\"nhap vao n:\"))\n",
    "for i in range(1, n):\n",
    "    for j in range (1, i+1):\n",
    "        if j*j == i:\n",
    "            dem+=1\n",
    "            print(i)\n",
    "print(\"tong: \",dem)"
   ]
  },
  {
   "cell_type": "code",
   "execution_count": 33,
   "metadata": {},
   "outputs": [
    {
     "name": "stdout",
     "output_type": "stream",
     "text": [
      "6\n"
     ]
    }
   ],
   "source": [
    "start = [[2, 8, 4], [1, 6, 3], [7, 0, 5]]\n",
    "goal = [[1, 2, 3],[8, 0, 4], [7, 6, 5]]\n",
    "def h(start, goal):\n",
    "    temp = 0\n",
    "    for i in range(0, 3):\n",
    "        for j in range(0, 3):\n",
    "            if start[i][j] != goal[i][j] and start[i][j] != 0:\n",
    "                temp += 1\n",
    "    return temp\n",
    "print(h(start, goal))"
   ]
  },
  {
   "cell_type": "code",
   "execution_count": 34,
   "metadata": {},
   "outputs": [
    {
     "name": "stdout",
     "output_type": "stream",
     "text": [
      "a[ 2 ][ 1 ]\n"
     ]
    }
   ],
   "source": [
    "start = [[2, 8, 4], [1, 6, 3], [7, 0, 5]]\n",
    "def oTrong(start):\n",
    "    for i in range(0, 3):\n",
    "        for j in range(0, 3):\n",
    "            if start[i][j] == 0:\n",
    "                return i, j\n",
    "x, y = oTrong(start)\n",
    "print(\"a[\",x,\"][\",y,\"]\")"
   ]
  },
  {
   "cell_type": "code",
   "execution_count": null,
   "metadata": {},
   "outputs": [],
   "source": []
  }
 ],
 "metadata": {
  "kernelspec": {
   "display_name": "Python 3",
   "language": "python",
   "name": "python3"
  },
  "language_info": {
   "codemirror_mode": {
    "name": "ipython",
    "version": 3
   },
   "file_extension": ".py",
   "mimetype": "text/x-python",
   "name": "python",
   "nbconvert_exporter": "python",
   "pygments_lexer": "ipython3",
   "version": "3.7.4"
  }
 },
 "nbformat": 4,
 "nbformat_minor": 2
}
