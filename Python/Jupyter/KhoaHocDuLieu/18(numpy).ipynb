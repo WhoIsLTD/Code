{
 "cells": [
  {
   "cell_type": "code",
   "execution_count": 1,
   "metadata": {},
   "outputs": [
    {
     "name": "stdout",
     "output_type": "stream",
     "text": [
      "[[25.65 24.79 24.01 25.06 25.48 24.97]\n",
      " [25.31 24.21 24.02 24.93 25.16 24.83]\n",
      " [25.05 23.73 23.89 24.79 24.8  24.55]\n",
      " ...\n",
      " [24.81 24.47 23.4  25.86 25.05 25.29]\n",
      " [23.97 24.22 22.95 25.74 24.92 24.87]\n",
      " [22.84 23.99 22.59 25.5  24.77 24.57]]\n",
      "-------------------------------------\n",
      "kích thước biến: (192, 6)\n",
      "số chiều của biến: 2\n",
      "kiểu dữ liệu của các phần tử: float64\n",
      "số phần tử: 1152\n"
     ]
    }
   ],
   "source": [
    "# Nhập thư viện numpy\n",
    "import numpy as np \n",
    "data_numpy = np.loadtxt(\"E:\\Code\\Python\\Tài liệu Python\\KhoaHocDuLieu\\Slide_Baigiang\\Data_C4\\Bai18_Temp.txt\")\n",
    "print(data_numpy)\n",
    "print(\"-------------------------------------\")\n",
    "print(\"kích thước biến:\", data_numpy.shape)\n",
    "print(\"số chiều của biến:\", data_numpy.ndim)\n",
    "print(\"kiểu dữ liệu của các phần tử:\", data_numpy.dtype)\n",
    "print(\"số phần tử:\", data_numpy.size)"
   ]
  },
  {
   "cell_type": "code",
   "execution_count": 2,
   "metadata": {},
   "outputs": [
    {
     "name": "stdout",
     "output_type": "stream",
     "text": [
      "---THỐNG KÊ CHO CẢ 6 THÀNH PHỐ---\n",
      "Nhiệt độ cao nhất:  33.45\n",
      "Nhiệt độ thấp nhất:  20.93\n",
      "NHiệt độ trung bình:  26.50222222222222\n"
     ]
    }
   ],
   "source": [
    "print(\"---THỐNG KÊ CHO CẢ 6 THÀNH PHỐ---\")\n",
    "print(\"Nhiệt độ cao nhất: \", data_numpy.max())\n",
    "print(\"Nhiệt độ thấp nhất: \", data_numpy.min())\n",
    "print(\"NHiệt độ trung bình: \", data_numpy.mean())"
   ]
  },
  {
   "cell_type": "code",
   "execution_count": 3,
   "metadata": {},
   "outputs": [
    {
     "name": "stdout",
     "output_type": "stream",
     "text": [
      "1) Hà Nội\n",
      "Nhiệt độ cao nhất: 33.45\n",
      "Nhiệt độ thấp nhất: 21.68\n",
      "Nhiệt độ trung bình: 27.71229166666667\n",
      "2) Vinh (Nghệ An)\n",
      "Nhiệt độ cao nhất: 32.57\n",
      "Nhiệt độ thấp nhất: 22.6\n",
      "Nhiệt độ trung bình: 26.719895833333336\n",
      "3) Đà Nẵng\n",
      "Nhiệt độ cao nhất: 29.88\n",
      "Nhiệt độ thấp nhất: 20.93\n",
      "Nhiệt độ trung bình: 25.522499999999997\n",
      "4) Nha Trang\n",
      "Nhiệt độ cao nhất: 28.68\n",
      "Nhiệt độ thấp nhất: 24.5\n",
      "Nhiệt độ trung bình: 26.166875000000005\n",
      "5) TP Hồ Chí Minh\n",
      "Nhiệt độ cao nhất: 31.06\n",
      "Nhiệt độ thấp nhất: 23.22\n",
      "Nhiệt độ trung bình: 26.159218749999997\n",
      "6) Cà Mau\n",
      "Nhiệt độ cao nhất: 31.37\n",
      "Nhiệt độ thấp nhất: 23.99\n",
      "Nhiệt độ trung bình: 26.73255208333333\n"
     ]
    }
   ],
   "source": [
    "for i in range(0, 6):\n",
    "    if (i == 0):\n",
    "        print(\"1) Hà Nội\")\n",
    "    if (i == 1):\n",
    "        print(\"2) Vinh (Nghệ An)\")\n",
    "    if (i == 2):\n",
    "        print(\"3) Đà Nẵng\")\n",
    "    if (i == 3):\n",
    "        print(\"4) Nha Trang\")\n",
    "    if (i == 4):\n",
    "        print(\"5) TP Hồ Chí Minh\")\n",
    "    if (i == 5):\n",
    "        print(\"6) Cà Mau\")\n",
    "    print(\"Nhiệt độ cao nhất:\", data_numpy[:,i].max())\n",
    "    print(\"Nhiệt độ thấp nhất:\", data_numpy[:,i].min())\n",
    "    print(\"Nhiệt độ trung bình:\", data_numpy[:,i].mean())"
   ]
  },
  {
   "cell_type": "code",
   "execution_count": 4,
   "metadata": {},
   "outputs": [
    {
     "name": "stdout",
     "output_type": "stream",
     "text": [
      "[[33.45 32.57 29.88 28.68 31.06 31.37 33.45]\n",
      " [27.71 26.72 25.52 26.17 26.16 26.73 26.5 ]\n",
      " [21.68 22.6  20.93 24.5  23.22 23.99 20.93]]\n",
      "<class 'numpy.ndarray'>\n",
      "kích thước: (3, 7)\n"
     ]
    }
   ],
   "source": [
    "data_thongke = np.zeros((3,7))\n",
    "#sử dụng vòng lặp để lưu dữ liệu của từng thành phố\n",
    "for i in range(6):\n",
    "    data_thongke[0,i] = data_numpy[:,i].max()\n",
    "    data_thongke[1,i] = round(data_numpy[:,i].mean(), 2)\n",
    "    data_thongke[2,i] = data_numpy[:,i].min()\n",
    "#cột thống kê chung\n",
    "data_thongke[0,6] = data_numpy.max()\n",
    "data_thongke[1,6] = round(data_numpy.mean(), 2)\n",
    "data_thongke[2,6] = data_numpy.min()\n",
    "#in\n",
    "print(data_thongke)\n",
    "print(type(data_thongke))\n",
    "print(\"kích thước:\", data_thongke.shape)\n",
    "np.savetxt(\"E:/Code/Python/Tài liệu Python/KhoaHocDuLieu/Slide_Baigiang/Data_C4/thongke.txt\", data_thongke, fmt='%.2f')"
   ]
  },
  {
   "cell_type": "code",
   "execution_count": null,
   "metadata": {},
   "outputs": [],
   "source": []
  }
 ],
 "metadata": {
  "kernelspec": {
   "display_name": "Python 3",
   "language": "python",
   "name": "python3"
  },
  "language_info": {
   "codemirror_mode": {
    "name": "ipython",
    "version": 3
   },
   "file_extension": ".py",
   "mimetype": "text/x-python",
   "name": "python",
   "nbconvert_exporter": "python",
   "pygments_lexer": "ipython3",
   "version": "3.7.4"
  }
 },
 "nbformat": 4,
 "nbformat_minor": 2
}
