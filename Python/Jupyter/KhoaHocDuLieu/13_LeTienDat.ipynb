{
 "cells": [
  {
   "cell_type": "code",
   "execution_count": 1,
   "metadata": {},
   "outputs": [
    {
     "name": "stdout",
     "output_type": "stream",
     "text": [
      "[0, 1, 2, 4, 5]\n",
      "Quãng đường:  1\n",
      "Đỉnh:  2\n",
      "[1, 0, 4, 4, 3]\n",
      "Quãng đường:  3\n",
      "Đỉnh:  5\n",
      "[5, 3, 2, 3, 0]\n",
      "Quãng đường:  2\n",
      "Đỉnh:  3\n",
      "[2, 4, 0, 1, 2]\n",
      "Quãng đường:  1\n",
      "Đỉnh:  4\n",
      "[4, 4, 1, 0, 3]\n",
      "Quãng đường:  4\n",
      "Đỉnh:  1\n",
      "Các đỉnh đã đi qua:  [1, 4, 2, 3, 0]\n",
      "Quãng đường ngắn nhất là:  11\n"
     ]
    }
   ],
   "source": [
    "ds = [[0,1,2,4,5],\n",
    "      [1,0,4,4,3],\n",
    "      [2,4,0,1,2],\n",
    "      [4,4,1,0,3],\n",
    "      [5,3,2,3,0]]\n",
    "\n",
    "ds_dinh = [0]\n",
    "def Min (ds,ddq):\n",
    "    DMin = 100\n",
    "    dinh = 0\n",
    "    for i in range (0,5):\n",
    "        if (len(ddq) == 5):\n",
    "            del ds_dinh[0]\n",
    "        if (ds[i] < DMin and i not in ddq):\n",
    "            DMin = ds[i]\n",
    "            dinh = i\n",
    "            \n",
    "    ddq.append(dinh)\n",
    "    return DMin, dinh\n",
    "\n",
    "s = 0\n",
    "for i in range (0,5):\n",
    "    i = ds_dinh[i]\n",
    "    print (ds[i])\n",
    "    qd, dinh = Min(ds[i], ds_dinh)\n",
    "    print (\"Quãng đường: \",qd)\n",
    "    print (\"Đỉnh: \",dinh + 1)\n",
    "    s += qd\n",
    "print (\"Các đỉnh đã đi qua: \",ds_dinh)\n",
    "print ('Quãng đường ngắn nhất là: ',s)"
   ]
  },
  {
   "cell_type": "code",
   "execution_count": null,
   "metadata": {},
   "outputs": [],
   "source": []
  },
  {
   "cell_type": "code",
   "execution_count": 28,
   "metadata": {},
   "outputs": [
    {
     "name": "stdout",
     "output_type": "stream",
     "text": [
      "nhập vào số lượng phần tử: 5\n",
      "nhập vào a[0]: 1\n",
      "nhập vào a[1]: 3\n",
      "nhập vào a[2]: 5\n",
      "nhập vào a[3]: 7\n",
      "nhập vào a[4]: 9\n",
      "Dãy số vừa nhập là: \n",
      "[1.0, 3.0, 5.0, 7.0, 9.0]\n",
      "Dãy số su khi sắp xếp tăng dần là: \n",
      "[1.0, 3.0, 5.0, 7.0, 9.0]\n",
      "nhập vào một số thực: 11\n",
      "Thêm m vào vị trí thích hợp: \n",
      "[1.0, 3.0, 5.0, 7.0, 9.0, 11.0]\n"
     ]
    }
   ],
   "source": [
    "n = int(input(\"nhập vào số lượng phần tử: \"))\n",
    "a = []\n",
    "for i in range(n):\n",
    "    v = float(input(\"nhập vào a[\" + str(i) + \"]: \"))\n",
    "    a.append(v)\n",
    "print(\"Dãy số vừa nhập là: \")\n",
    "print(a)\n",
    "for i in range(n-1):\n",
    "    for j in range(i+1, n):\n",
    "        if a[i] > a[j]:\n",
    "            a[i], a[j] = a[j], a[i]\n",
    "print(\"Dãy số su khi sắp xếp tăng dần là: \")\n",
    "print(a)\n",
    "m = float(input(\"nhập vào một số thực: \"))\n",
    "if m in a:\n",
    "    print(\"m đã tồn tại trong dãy\")\n",
    "else:\n",
    "    for i in range(n):\n",
    "        if m < a[i]:\n",
    "            mi = i\n",
    "            break\n",
    "    if m >= a[n-1]:\n",
    "        a.append(m)\n",
    "    else:\n",
    "        a.insert(mi, m)\n",
    "    print(\"Thêm m vào vị trí thích hợp: \")\n",
    "    print(a)\n"
   ]
  },
  {
   "cell_type": "code",
   "execution_count": 37,
   "metadata": {},
   "outputs": [
    {
     "name": "stdout",
     "output_type": "stream",
     "text": [
      "Nhập vào hàng ma trận 1:2\n",
      "Nhập vào cột ma trận 1:3\n",
      "Nhập vào a[0][0]: 1\n",
      "Nhập vào a[0][1]: 2\n",
      "Nhập vào a[0][2]: 3\n",
      "Nhập vào a[1][0]: 1\n",
      "Nhập vào a[1][1]: 2\n",
      "Nhập vào a[1][2]: 3\n",
      "Nhập vào hàng ma trận 2:2\n",
      "Nhập vào cột ma trận 2:3\n",
      "Nhập vào a[0][0]: 2\n",
      "Nhập vào a[0][1]: 1\n",
      "Nhập vào a[0][2]: 3\n",
      "Nhập vào a[1][0]: 2\n",
      "Nhập vào a[1][1]: 4\n",
      "Nhập vào a[1][2]: 3\n",
      "Tổng 2 ma trận a, b là: \n",
      "[[3, 3, 6], [3, 6, 6]]\n",
      "Ma trận b:\n",
      "[[2, 1, 3], [2, 4, 3]]\n",
      "Ma trận chuyển vị của b là: \n",
      "[[2, 2], [1, 4], [3, 3]]\n",
      "None\n"
     ]
    }
   ],
   "source": [
    "def MaTran(a, m, n):\n",
    "    for i in range(0, m):\n",
    "        a.append([])\n",
    "        for j in range(0, n):\n",
    "            x = int(input(\"Nhập vào a[%d][%d]: \" % (i, j)))\n",
    "            a[i].append(x)\n",
    "\n",
    "def ChuyenVi(a, m, n):\n",
    "    cv=[]\n",
    "    for j in range(n):\n",
    "        cv.append([])\n",
    "        for i in range (m):\n",
    "            ent=a[i][j]\n",
    "            cv[j].append(ent)\n",
    "    print(cv)\n",
    "a = []\n",
    "b = []\n",
    "c = []\n",
    "\n",
    "m = int(input(\"Nhập vào hàng ma trận 1:\"))\n",
    "n = int(input(\"Nhập vào cột ma trận 1:\"))\n",
    "MaTran(a, m, n)\n",
    "\n",
    "m1 = int(input(\"Nhập vào hàng ma trận 2:\"))\n",
    "n1 = int(input(\"Nhập vào cột ma trận 2:\"))\n",
    "MaTran(b, m1, n1)\n",
    "c = a\n",
    "if m != m1 or n != n1:\n",
    "    print(\"Hai ma trận không bằng nhau\")\n",
    "else:\n",
    "    for i in range (0, m):\n",
    "        for j in range (0, n):\n",
    "            c[i][j] = a[i][j] + b[i][j];\n",
    "    print(\"Tổng 2 ma trận a, b là: \")\n",
    "    print(c)\n",
    "print(\"Ma trận b:\")\n",
    "print(b)\n",
    "print(\"Ma trận chuyển vị của b là: \")\n",
    "print(ChuyenVi(b, m, n))\n",
    "\n",
    "\n",
    "\n"
   ]
  },
  {
   "cell_type": "markdown",
   "metadata": {},
   "source": []
  }
 ],
 "metadata": {
  "kernelspec": {
   "display_name": "Python 3.7.6 64-bit",
   "language": "python",
   "name": "python37664bitd4a2f2800ab94c20a4188e87f700acfb"
  },
  "language_info": {
   "codemirror_mode": {
    "name": "ipython",
    "version": 3
   },
   "file_extension": ".py",
   "mimetype": "text/x-python",
   "name": "python",
   "nbconvert_exporter": "python",
   "pygments_lexer": "ipython3",
   "version": "3.7.6"
  }
 },
 "nbformat": 4,
 "nbformat_minor": 2
}
