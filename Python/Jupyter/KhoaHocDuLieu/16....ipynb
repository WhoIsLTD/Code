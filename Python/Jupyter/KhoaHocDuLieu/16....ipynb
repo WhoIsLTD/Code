{
 "cells": [
  {
   "cell_type": "code",
   "execution_count": 1,
   "metadata": {},
   "outputs": [
    {
     "name": "stdout",
     "output_type": "stream",
     "text": [
      "\n",
      "Fraction 1:\n",
      "Enter numerator:4\n",
      "Enter denominator:2\n",
      "4 / 2\n",
      "\n",
      "Fraction 2:\n",
      "Enter numerator:6\n",
      "Enter denominator:2\n",
      "6 / 2\n",
      "\n",
      "Sum:\n",
      "24 / 4\n"
     ]
    }
   ],
   "source": [
    "class fraction:\n",
    "    def __init__(first):\n",
    "        first.num = \"\" #numerator\n",
    "        first.den = \"\" #denominator\n",
    "    def enter(first):\n",
    "        first.num = int(input(\"Enter numerator:\"))\n",
    "        first.den = int(input(\"Enter denominator:\"))\n",
    "    def printFraction(first):\n",
    "        print(first.num, \"/\", first.den)\n",
    "    def Sum(a, b):\n",
    "        n = fraction()\n",
    "        n.num = a.num*b.den + b.num*a.den\n",
    "        n.den = a.den*b.den\n",
    "        return n\n",
    "    \n",
    "x = x1 = fraction()\n",
    "print(\"\\nFraction 1:\")\n",
    "x.enter()\n",
    "x.printFraction()\n",
    "print(\"\\nFraction 2:\")\n",
    "x1.enter()\n",
    "x1.printFraction()\n",
    "print(\"\\nSum:\")\n",
    "y = x.Sum(x1)\n",
    "y.printFraction()\n"
   ]
  },
  {
   "cell_type": "code",
   "execution_count": 2,
   "metadata": {},
   "outputs": [
    {
     "name": "stdout",
     "output_type": "stream",
     "text": [
      "2014\n",
      "False\n"
     ]
    }
   ],
   "source": [
    "def is_leap(year):\n",
    "    return year % 4 == 0 & (year % 400 == 0 | year % 100 != 0)\n",
    "year = int(input())\n",
    "print(is_leap(year))"
   ]
  },
  {
   "cell_type": "code",
   "execution_count": null,
   "metadata": {},
   "outputs": [],
   "source": [
    "h = int(input(\"hàng\"))\n",
    "c = int(input(\"cột\"))\n",
    "dem = 0\n",
    "if h+2 <=8:\n",
    "    if c - 1 > 0:\n",
    "        dem += 1\n",
    "    if c + 1 <= 8:\n",
    "        dem += 1\n",
    "if h - 2 >= 1:\n",
    "    if c + 1 <= 8:\n",
    "        dem += 1\n",
    "    if c - 1 > 0:\n",
    "        dem += 1\n",
    "if c+2 <=8:\n",
    "    if h - 1 > 0:\n",
    "        dem += 1\n",
    "    if h + 1 <= 8:\n",
    "        dem += 1\n",
    "if c - 2 >= 1:\n",
    "    if h + 1 <= 8:\n",
    "        dem += 1\n",
    "    if h - 1 > 0:\n",
    "        dem += 1\n",
    "print(dem)\n",
    "    "
   ]
  },
  {
   "cell_type": "code",
   "execution_count": 8,
   "metadata": {},
   "outputs": [
    {
     "name": "stdout",
     "output_type": "stream",
     "text": [
      "quân thứ  1 :\n",
      "\n",
      "nhap vao hang: 1\n",
      "nhap vao cot: 2\n",
      "quân thứ  2 :\n",
      "\n",
      "nhap vao hang: 4\n",
      "nhap vao cot: 5\n",
      "quân thứ  3 :\n",
      "\n",
      "nhap vao hang: 7\n",
      "nhap vao cot: 8\n",
      "quân thứ  4 :\n",
      "\n",
      "nhap vao hang: 6\n",
      "nhap vao cot: 1\n",
      "quân thứ  5 :\n",
      "\n",
      "nhap vao hang: 3\n",
      "nhap vao cot: 2\n",
      "quân thứ  6 :\n",
      "\n",
      "nhap vao hang: 7\n",
      "nhap vao cot: 5\n",
      "quân thứ  7 :\n",
      "\n",
      "nhap vao hang: 8\n",
      "nhap vao cot: 1\n",
      "quân thứ  8 :\n",
      "\n",
      "nhap vao hang: 3\n",
      "nhap vao cot: 6\n",
      "YES\n"
     ]
    }
   ],
   "source": [
    "h = []\n",
    "c = []\n",
    "\n",
    "for i in range (1, 9):\n",
    "    print(\"quân thứ \", i, \":\\n\")\n",
    "    m = int(input(\"nhap vao hang: \"))\n",
    "    h.append(m)\n",
    "    n = int(input(\"nhap vao cot: \"))\n",
    "    c.append(n)\n",
    "co = 0\n",
    "# kiem tra list co ptu trung nhau hay khong( duong, cot)\n",
    "def duplicate (lst):\n",
    "    return len(lst) != len(set(lst))\n",
    "if duplicate(h) == True or duplicate(c) == True:\n",
    "    co = 1\n",
    "#kiem tra duong cheo    \n",
    "for i in range (0, 8):\n",
    "    for j in range (0, 8):\n",
    "        for k in range (0, 8):\n",
    "            for l in range (0, 8):\n",
    "                if (i == j and k == l and i != k and j != l):\n",
    "                    if (h[i]+c[j] == h[k] + c[l] or h[i]-c[j] == h[k] - c[l] ):\n",
    "                        co = 1\n",
    "if (co == 1):\n",
    "    print(\"YES\")\n",
    "else:\n",
    "    print(\"NO\")"
   ]
  },
  {
   "cell_type": "code",
   "execution_count": null,
   "metadata": {},
   "outputs": [],
   "source": [
    "\n",
    "\n",
    "m = int(input(\"Nhap m = \"))\n",
    "n = int(input(\"Nhap n = \"))\n",
    "\n",
    "a = []\n",
    "\n",
    "for i in range(0, m):\n",
    "    a.append([])\n",
    "    for j in range(0, n):\n",
    "        x = float(input(\"Nhap phan tu thu a[%2d][%2d]: \" % (i+1, j+1)))\n",
    "        a[i].append(x)\n",
    "\n",
    "print(\"Day so vua nhap la: \")\n",
    "for i in range(0, m):\n",
    "    for j in range(0, n):\n",
    "        print(\"%3d \" % a[i][j], end='')\n",
    "    print()"
   ]
  },
  {
   "cell_type": "code",
   "execution_count": null,
   "metadata": {},
   "outputs": [],
   "source": []
  }
 ],
 "metadata": {
  "kernelspec": {
   "display_name": "Python 3",
   "language": "python",
   "name": "python3"
  },
  "language_info": {
   "codemirror_mode": {
    "name": "ipython",
    "version": 3
   },
   "file_extension": ".py",
   "mimetype": "text/x-python",
   "name": "python",
   "nbconvert_exporter": "python",
   "pygments_lexer": "ipython3",
   "version": "3.7.4"
  }
 },
 "nbformat": 4,
 "nbformat_minor": 2
}
