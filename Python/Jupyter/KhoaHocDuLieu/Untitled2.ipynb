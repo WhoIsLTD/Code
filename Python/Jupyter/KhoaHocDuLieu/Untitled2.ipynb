{
 "cells": [
  {
   "cell_type": "code",
   "execution_count": 25,
   "metadata": {},
   "outputs": [
    {
     "name": "stdout",
     "output_type": "stream",
     "text": [
      "[[0, 1, 2, 4, 5], [1, 0, 3, 4, 4], [2, 4, 0, 1, 2], [4, 4, 1, 0, 3], [5, 3, 2, 3, 0]]\n",
      "1\n",
      "0\n"
     ]
    }
   ],
   "source": [
    "a = [[0, 1, 2, 4, 5],\n",
    "     [1, 0, 3, 4, 4],\n",
    "     [2, 4, 0, 1, 2],\n",
    "     [4, 4, 1, 0, 3], \n",
    "     [5, 3, 2, 3, 0]]\n",
    "print(a)\n",
    "\n",
    "def abc(a, b):\n",
    "    temp = a[b][1]\n",
    "    for j in range (0,5):\n",
    "        if b != j and temp > a[b][j]:\n",
    "            temp = a[i][j]\n",
    "        \n",
    "    return temp, b\n",
    "\n",
    "qd, dht = abc(a, 0)\n",
    "print(qd)\n",
    "print(dht)\n",
    "for i in range (0, 5):\n",
    "    "
   ]
  },
  {
   "cell_type": "code",
   "execution_count": 17,
   "metadata": {},
   "outputs": [
    {
     "ename": "SyntaxError",
     "evalue": "invalid syntax (<ipython-input-17-c3b127c35c4d>, line 1)",
     "output_type": "error",
     "traceback": [
      "\u001b[1;36m  File \u001b[1;32m\"<ipython-input-17-c3b127c35c4d>\"\u001b[1;36m, line \u001b[1;32m1\u001b[0m\n\u001b[1;33m    for i in range a[:,1]:\u001b[0m\n\u001b[1;37m                   ^\u001b[0m\n\u001b[1;31mSyntaxError\u001b[0m\u001b[1;31m:\u001b[0m invalid syntax\n"
     ]
    }
   ],
   "source": []
  },
  {
   "cell_type": "code",
   "execution_count": null,
   "metadata": {},
   "outputs": [],
   "source": []
  }
 ],
 "metadata": {
  "kernelspec": {
   "display_name": "Python 3.7.6 64-bit",
   "language": "python",
   "name": "python37664bitd4a2f2800ab94c20a4188e87f700acfb"
  },
  "language_info": {
   "codemirror_mode": {
    "name": "ipython",
    "version": 3
   },
   "file_extension": ".py",
   "mimetype": "text/x-python",
   "name": "python",
   "nbconvert_exporter": "python",
   "pygments_lexer": "ipython3",
   "version": "3.7.6"
  }
 },
 "nbformat": 4,
 "nbformat_minor": 2
}
