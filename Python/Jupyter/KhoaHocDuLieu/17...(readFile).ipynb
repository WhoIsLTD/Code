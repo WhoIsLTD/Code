{
 "cells": [
  {
   "cell_type": "code",
   "execution_count": 94,
   "metadata": {},
   "outputs": [
    {
     "name": "stdout",
     "output_type": "stream",
     "text": [
      "['5', '9', '8', '14', '6', '18', '21', '2', '19', '26', '-1', '17', '8', '25', '0', '14', '-1', '1', '30', '11', '5', '30', '-1']\n",
      "max : 30\n",
      "min : -1\n",
      "['5', '9', '8', '14', '6', '18', '21', '2', '19', '26', '30', '17', '8', '25', '0', '14', '30', '1', '-1', '11', '5', '-1', '30']\n",
      "5 9 8 14 6 18 21 2 19 26 30 17 8 25 0 14 30 1 -1 11 5 -1 30 \n"
     ]
    }
   ],
   "source": [
    "obj = open(\"E:\\Code\\Python\\Tài liệu Python\\KhoaHocDuLieu\\Slide_Baigiang\\Data_C4\\dayso1_bai17.txt\", \"r+\")\n",
    "str = obj.read()\n",
    "st = str.split()\n",
    "print(st)\n",
    "min = max = int(st[0])\n",
    "for i in range(len(st)):\n",
    "    if (int(max) < int(st[i])):\n",
    "        max = st[i]\n",
    "        maxi = i\n",
    "    if (int(min) > int(st[i])):\n",
    "        min = st[i]\n",
    "        mini = i\n",
    "print(\"max :\", max)\n",
    "print(\"min :\", min)\n",
    "for i in range(len(st)):       \n",
    "    if int(st[i]) == int(max):\n",
    "        st[i] = min\n",
    "    elif int(st[i]) == int(min): \n",
    "        st[i] = max\n",
    "\n",
    "    \n",
    "       \n",
    "print(st)\n",
    "\n",
    "obj = open(\"E:\\Code\\Python\\Tài liệu Python\\KhoaHocDuLieu\\Slide_Baigiang\\Data_C4\\dayso2_bai17.txt\", \"w\")\n",
    "neww = \"\"\n",
    "for i in (st):\n",
    "    neww += i + \" \"\n",
    "print(neww)"
   ]
  },
  {
   "cell_type": "code",
   "execution_count": null,
   "metadata": {},
   "outputs": [],
   "source": []
  }
 ],
 "metadata": {
  "kernelspec": {
   "display_name": "Python 3",
   "language": "python",
   "name": "python3"
  },
  "language_info": {
   "codemirror_mode": {
    "name": "ipython",
    "version": 3
   },
   "file_extension": ".py",
   "mimetype": "text/x-python",
   "name": "python",
   "nbconvert_exporter": "python",
   "pygments_lexer": "ipython3",
   "version": "3.7.4"
  }
 },
 "nbformat": 4,
 "nbformat_minor": 2
}
