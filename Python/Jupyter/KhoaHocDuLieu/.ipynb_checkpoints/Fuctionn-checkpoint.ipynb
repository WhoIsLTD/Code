{
 "cells": [
  {
   "cell_type": "markdown",
   "metadata": {},
   "source": [
    "# Bài 15_a: Viết hàm cho các bài đã thực hiện\n",
    "___\n",
    "1) \n",
    "Viết hàm greeting(): Trả về câu chào với tham số truyền vào là\n",
    "chuỗi họ tên và năm sinh (Xem lại bài tập số 2)\n",
    "___\n",
    "2) \n",
    "Viết hàm rabbit_count(): tính số thỏ trong rừng khi truyền vào\n",
    "số tháng (Xem lại bài tập số 3)\n",
    "\n",
    "___\n",
    "3) \n",
    "Viết hàm count_mark(): trả về số sinh viên học lại và tổng số sinh viên trong lớp với tham số truyền vào là một danh sách bảng điểm (Xem lại bài tập số 5 ý 1, 2)"
   ]
  },
  {
   "cell_type": "code",
   "execution_count": 14,
   "metadata": {},
   "outputs": [
    {
     "name": "stdout",
     "output_type": "stream",
     "text": [
      "Nhập vào họ và tên:frể\n",
      "Nhập vào năm sinh:3456\n",
      "Bạn  FRỂ sinh năm  3456\n",
      "nhập vào số tháng:3\n",
      "Số thỏ sau 3 la:  16\n",
      "số sinh viên trong lớp và số sinh viên học lại lần lượt là: (15, 3)\n"
     ]
    }
   ],
   "source": [
    "#1) Viết hàm greeting(): Trả về câu chào với tham số truyền vào là\n",
    "def greeting(x, n):\n",
    "    m = x.upper()\n",
    "    print(\"Bạn \", m, \"sinh năm \", n)\n",
    "x = str(input(\"Nhập vào họ và tên:\"))\n",
    "n = int(input(\"Nhập vào năm sinh:\"))\n",
    "greeting(x, n)\n",
    "\n",
    "#2) Viết hàm rabbit_count(): tính số thỏ trong rừng khi truyền vào\n",
    "def rabbit_count(thang):\n",
    "    m = 2**(thang+1)\n",
    "    return m\n",
    "thang = int(input(\"nhập vào số tháng:\"))\n",
    "print(\"Số thỏ sau\", thang, \"la: \", rabbit_count(thang))\n",
    "#3) Viết hàm count_mark(): trả về số sinh viên học lại và tổng số\n",
    "def count_mark(x):\n",
    "    m = len(x)\n",
    "    n = x.count(\"F\")\n",
    "    return m, n\n",
    "x = [\"C\", \"B\", \"D\", \"A\", \"F\", \"A\", \"B\", \"F\", \"B\", \"B\", \"C\", \"A\", \"D\", \"F\", \"B\"]\n",
    "print(\"số sinh viên trong lớp và số sinh viên học lại lần lượt là:\", count_mark(x))\n",
    "\n"
   ]
  },
  {
   "cell_type": "markdown",
   "metadata": {},
   "source": [
    "# Bài 15_b: Viết hàm cho các bài đã thực hiện\n",
    "___\n",
    "4) \n",
    "Viết hàm bmi_show(): Trả về nhận xét dựa vào chỉ số BMI đã tính\n",
    "với 2 tham số truyền vào là chiều cao, cân nặng (Xem lại bài tập số 7)\n",
    "___\n",
    "5) \n",
    "Viết hàm cal_point(): Trả về điểm trung bình hệ 10 và hệ 4 của một\n",
    "học sinh khi truyền vào danh sách điểm (Xem lại bài tập số 10 ý 2)\n",
    "___\n",
    "6) \n",
    "Viết hàm list_prime(): trả danh sách các số nguyên tố trong khoảng\n",
    "tử 1 đến n với tham số truyền vào là n (Xem lại bài tập số 12)"
   ]
  },
  {
   "cell_type": "code",
   "execution_count": 1,
   "metadata": {},
   "outputs": [
    {
     "name": "stdout",
     "output_type": "stream",
     "text": [
      "Nhập vào cân nặng (kg): 66\n",
      "Nhập vào chiều cao (m):1.87\n",
      "\tNormalWeight\n",
      "av10, av4: (5.8, 2.3)\n"
     ]
    }
   ],
   "source": [
    "def bmi_show(can, cao):\n",
    "    m = 0\n",
    "    BMI = can/(cao**2)\n",
    "    if BMI > 30:\n",
    "        m = print(\"Olese\")\n",
    "    elif BMI > 25:\n",
    "        m = print(\"\\tOverWeight\")\n",
    "    elif BMI >18.5:\n",
    "        m = print(\"\\tNormalWeight\")\n",
    "    elif BMI > 0:\n",
    "        m = print(\"\\tUnderWeight\")\n",
    "    else:\n",
    "        m = print (\"erorr\")\n",
    "    return m\n",
    "can = float(input(\"Nhập vào cân nặng (kg): \"))\n",
    "cao = float(input(\"Nhập vào chiều cao (m):\"))\n",
    "bmi_show(can, cao)\n",
    "#5) Viết hàm cal_point(): Trả về điểm trung bình hệ 10 và hệ 4 của một \n",
    "# học sinh khi truyền vào danh sách điểm (Xem lại bài tập số 10 ý 2)\n",
    "def cal_point(list10):\n",
    "    list4 = list10.copy()\n",
    "    m=n=0\n",
    "    for i in range(0, len(list4)):\n",
    "        if(list4[i] >= 9):\n",
    "            list4[i] = 4\n",
    "        elif(list4[i] >= 8.5):\n",
    "            list4[i] = 3.7\n",
    "        elif(list4[i] >= 8):\n",
    "            list4[i] = 3.5\n",
    "        elif(list4[i] >= 7):\n",
    "            list4[i] = 3\n",
    "        elif(list4[i] >= 6.5):\n",
    "            list4[i] = 2.5\n",
    "        elif(list4[i] >= 5.5):\n",
    "            list4[i] = 2\n",
    "        elif(list4[i] >= 5):\n",
    "            list4[i] = 1.5\n",
    "        elif(list4[i] >= 4):\n",
    "            list4[i] = 1\n",
    "        else:\n",
    "            list4[i] = 0\n",
    "    for i in list10:\n",
    "        m +=i\n",
    "    av10 = m/len(list10)\n",
    "    for i in list4:\n",
    "        n +=i\n",
    "    av4 = n/len(list4)\n",
    "    return av10, av4\n",
    "list10 = [1, 4, 7, 9, 8]\n",
    "print(\"av10, av4:\", cal_point(list10))\n",
    "    \n",
    "            \n",
    "    \n",
    "    \n",
    "\n"
   ]
  },
  {
   "cell_type": "code",
   "execution_count": 2,
   "metadata": {},
   "outputs": [
    {
     "name": "stdout",
     "output_type": "stream",
     "text": [
      "Nhập vào n:6\n",
      "so nt:\n",
      "2\n",
      "3\n",
      "5\n",
      "\n"
     ]
    }
   ],
   "source": [
    "def list_prime(n):\n",
    "    x = ''  \n",
    "    count = 0\n",
    "    for i in range(2,n):\n",
    "        for j in range(2, i+1):\n",
    "            if(i%j==0):\n",
    "                count += 1\n",
    "        if(count == 1):\n",
    "            x += str(i)\n",
    "            x += \"\\n\"\n",
    "        count = 0\n",
    "    return x\n",
    "n = int(input(\"Nhập vào n:\"))\n",
    "print(\"so nt:\")\n",
    "print(list_prime(n))"
   ]
  },
  {
   "cell_type": "code",
   "execution_count": null,
   "metadata": {},
   "outputs": [],
   "source": []
  }
 ],
 "metadata": {
  "kernelspec": {
   "display_name": "Python 3",
   "language": "python",
   "name": "python3"
  },
  "language_info": {
   "codemirror_mode": {
    "name": "ipython",
    "version": 3
   },
   "file_extension": ".py",
   "mimetype": "text/x-python",
   "name": "python",
   "nbconvert_exporter": "python",
   "pygments_lexer": "ipython3",
   "version": "3.7.5"
  }
 },
 "nbformat": 4,
 "nbformat_minor": 2
}
