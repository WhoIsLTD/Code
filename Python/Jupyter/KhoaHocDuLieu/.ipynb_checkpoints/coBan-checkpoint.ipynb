{
 "cells": [
  {
   "cell_type": "code",
   "execution_count": 3,
   "metadata": {},
   "outputs": [
    {
     "name": "stdout",
     "output_type": "stream",
     "text": [
      "nhap so keo cua gv:10\n",
      "nhap so hoc sinh:10\n",
      "moi hoc sinh nhan dc so keo la: 1.0\n",
      "gv con lai: 0\n"
     ]
    }
   ],
   "source": [
    "keo = int(input(\"nhap so keo cua gv:\"))\n",
    "n = int(input(\"nhap so hoc sinh:\"))\n",
    "print(\"moi hoc sinh nhan dc so keo la:\", keo/n)\n",
    "print(\"gv con lai:\", keo%n)"
   ]
  },
  {
   "cell_type": "code",
   "execution_count": 1,
   "metadata": {
    "scrolled": false
   },
   "outputs": [
    {
     "name": "stdout",
     "output_type": "stream",
     "text": [
      "nhap ho v ten:Lê Tiến Đạt\n",
      "nhap nam sinh:2000\n",
      "ban LÊ TIẾN ĐẠT nam nay 19\n"
     ]
    }
   ],
   "source": [
    "hvt = str(input(\"nhap ho v ten:\"))\n",
    "ns = int(input(\"nhap nam sinh:\"))\n",
    "print(\"ban \"+ hvt.upper() + \" nam nay \"+ str(2019-ns))"
   ]
  },
  {
   "cell_type": "code",
   "execution_count": 5,
   "metadata": {},
   "outputs": [
    {
     "name": "stdout",
     "output_type": "stream",
     "text": [
      "nhap vao so thang:3\n",
      "so tho sau  3 thang la 16\n"
     ]
    }
   ],
   "source": [
    "x = 2\n",
    "thang = int(input(\"nhap vao so thang:\"))\n",
    "print(\"so tho sau \", thang, \"thang la\", 2**(thang+1))\n"
   ]
  },
  {
   "cell_type": "code",
   "execution_count": 6,
   "metadata": {},
   "outputs": [
    {
     "name": "stdout",
     "output_type": "stream",
     "text": [
      "Số ký tự là: 145\n",
      "False\n",
      "False\n",
      "['Nước Việt Nam là một, dân tộc Việt Nam là một', ' Sông có thể cạn núi có thể mòn, song chân lý ấy không bao giờ thay đổi', ' (HỒ CHÍ MINH, 1890 – 1969)']\n",
      "False\n",
      "Nước VIỆT NAM là một, dân tộc VIỆT NAM là một. Sông có thể cạn núi có thể mòn, song chân lý ấy không bao giờ thay đổi. (HỒ CHÍ MINH, 1890 – 1969)\n"
     ]
    }
   ],
   "source": [
    "x = \"Nước Việt Nam là một, dân tộc Việt Nam là một. Sông có thể cạn núi có thể mòn, song chân lý ấy không bao giờ thay đổi. (HỒ CHÍ MINH, 1890 – 1969)\"\n",
    "a = \"hồ chí minh\" in x\n",
    "b = \"non sông\" in x\n",
    "print(\"Số ký tự là:\",len(x))\n",
    "print(a)\n",
    "print(b)\n",
    "print(x.split(\".\"))\n",
    "print(x.isalnum())\n",
    "print(x.replace(\"Việt Nam\", \"VIỆT NAM\"))\n",
    "\n"
   ]
  },
  {
   "cell_type": "code",
   "execution_count": 7,
   "metadata": {},
   "outputs": [
    {
     "name": "stdout",
     "output_type": "stream",
     "text": [
      "số học sinh trong lớp là: 15\n",
      "số học sinh phải học lại là: 3\n",
      "số sinh viên có từ điểm B trở lên là: 8\n",
      "['B', 'D', 'A', 'F', 'A', 'B', 'F', 'B', 'B', 'C', 'A', 'D', 'F']\n"
     ]
    }
   ],
   "source": [
    "\n",
    "x = [\"C\", \"B\", \"D\", \"A\", \"F\", \"A\", \"B\", \"F\", \"B\", \"B\", \"C\", \"A\", \"D\", \"F\", \"B\"]\n",
    "y = x.count(\"B\") + x.count(\"A\")\n",
    "print(\"số học sinh trong lớp là:\",len(x))\n",
    "print(\"số học sinh phải học lại là:\", x.count(\"F\"))\n",
    "print(\"số sinh viên có từ điểm B trở lên là:\", y)\n",
    "x.pop()\n",
    "x.remove(\"C\")\n",
    "print(x)\n"
   ]
  },
  {
   "cell_type": "code",
   "execution_count": 8,
   "metadata": {},
   "outputs": [
    {
     "name": "stdout",
     "output_type": "stream",
     "text": [
      "nhập vào ký tự:u\n",
      "đây là nguyên âm\n"
     ]
    }
   ],
   "source": [
    "x = str(input(\"nhập vào ký tự:\"))\n",
    "if(x==\"u\" or x==\"e\" or x==\"o\" or x==\"a\" or x==\"i\"):\n",
    "    print(\"đây là nguyên âm\")\n",
    "else:\n",
    "    print(\"đây là phụ âm\")"
   ]
  },
  {
   "cell_type": "code",
   "execution_count": 9,
   "metadata": {},
   "outputs": [
    {
     "name": "stdout",
     "output_type": "stream",
     "text": [
      "Nhập chiều cao(m): 1.70\n",
      "Nhập cân nặng(kg): 60\n",
      "20.761245674740486\n",
      "\tNormalWeight\n"
     ]
    }
   ],
   "source": [
    "cao = float(input(\"Nhập chiều cao(m): \"))\n",
    "can = int(input(\"Nhập cân nặng(kg): \"))\n",
    "BMI = can/(cao**2)\n",
    "print(BMI)\n",
    "if BMI > 30:\n",
    "    print(\"Olese\")\n",
    "elif BMI > 25:\n",
    "    print(\"\\tOverWeight\")\n",
    "elif BMI >18.5:\n",
    "    print(\"\\tNormalWeight\")\n",
    "elif BMI > 0:\n",
    "    print(\"\\tUnderWeight\")\n",
    "else:\n",
    "    print (\"Erorr\")"
   ]
  },
  {
   "cell_type": "code",
   "execution_count": 11,
   "metadata": {},
   "outputs": [
    {
     "name": "stdout",
     "output_type": "stream",
     "text": [
      "nhập vào tháng sinh của bạn:9\n",
      "Bạn sinh vào mùa thu\n"
     ]
    }
   ],
   "source": [
    "n = int(input(\"nhập vào tháng sinh của bạn:\"))\n",
    "if(n == 1 or n == 2 or n == 3):\n",
    "    print(\"Bạn sinh vào mùa xuân\")\n",
    "elif(n == 4 or n == 5 or n == 6):\n",
    "    print(\"Bạ sinh vào mùa hạ\")\n",
    "elif(n == 7 or n == 8 or n == 9):\n",
    "    print(\"Bạn sinh vào mùa thu\")\n",
    "elif(n == 10 or n == 11 or n == 12):\n",
    "    print(\"Bạn sinh vào mùa đông\")\n",
    "else:\n",
    "    print(\"Tháng sinh nhập vào không đúng\")"
   ]
  },
  {
   "cell_type": "code",
   "execution_count": null,
   "metadata": {},
   "outputs": [],
   "source": [
    "\n",
    "while True:\n",
    "    x = int(input(\"nhập vào bảng cửu chương muốn hiển thị [1-10]:\"))\n",
    "    if (1<= x <= 10):\n",
    "        break;\n",
    "    print(\"nhập sai, vui lòng nhập vào số từ 1 đến 10\")\n",
    "print(\"Bảng cửu chương \",x)\n",
    "for j in range(1, 11):\n",
    "    print(x,\"x\", j, \"=\", x*j)\n",
    "        "
   ]
  },
  {
   "cell_type": "code",
   "execution_count": 14,
   "metadata": {},
   "outputs": [
    {
     "name": "stdout",
     "output_type": "stream",
     "text": [
      "điểm hệ 10: [8.4, 6.5, 7.3, 2.6, 9.0, 5.8, 6.0, 9.7, 8.1]\n",
      "điểm chữ tương ứng: ['B+', 'C+', 'B', 'F', 'A+', 'C', 'C', 'A+', 'B+']\n",
      "-----------Điểm trung bình-----------\n",
      "tổng sô môn học:  9\n",
      "ĐTB hệ 10: 7.044444444444444\n",
      "ĐTB hệ 4: 2.7222222222222223\n"
     ]
    }
   ],
   "source": [
    "x = [8.4, 6.5, 7.3, 2.6, 9.0, 5.8, 6.0, 9.7, 8.1]\n",
    "z = [3.5, 2.5, 3, 0, 4, 2, 2, 4, 3.5]\n",
    "y = ['B+', 'C+', 'B', 'F', 'A+', 'C', 'C', 'A+', 'B+']\n",
    "s = 0\n",
    "a = 0\n",
    "print(\"điểm hệ 10:\",x)\n",
    "print(\"điểm chữ tương ứng:\", y)\n",
    "print(\"-----------Điểm trung bình-----------\")\n",
    "print(\"tổng sô môn học: \", len(x))\n",
    "for i in x:\n",
    "    s +=i\n",
    "print(\"ĐTB hệ 10:\",s/len(x))\n",
    "for j in z:\n",
    "    a +=j\n",
    "print(\"ĐTB hệ 4:\", a/len(x))\n",
    "\n"
   ]
  },
  {
   "cell_type": "code",
   "execution_count": 15,
   "metadata": {},
   "outputs": [
    {
     "name": "stdout",
     "output_type": "stream",
     "text": [
      "Nhập vào một số nguyên dương N (N>1) :4\n",
      "Số 4 không phải là số nguyên tố!\n"
     ]
    }
   ],
   "source": [
    "n = int(input(\"Nhập vào một số nguyên dương N (N>1) :\"))\n",
    "count = 0\n",
    "for i in range(2,n):\n",
    "    if ( n % i == 0):\n",
    "        count += 1\n",
    "if (count == 1):\n",
    "    print(\"Số\", n, \"không phải là số nguyên tố!\")\n",
    "else:   \n",
    "    print(\"Số\", n, \"là số nguyên tố!\")"
   ]
  },
  {
   "cell_type": "code",
   "execution_count": 1,
   "metadata": {},
   "outputs": [
    {
     "name": "stdout",
     "output_type": "stream",
     "text": [
      "Nhập vào một số nguyên dương N (N>1) :7\n",
      "2\n",
      "3\n",
      "4\n",
      "4\n",
      "5\n",
      "6\n",
      "6\n",
      "6\n"
     ]
    }
   ],
   "source": [
    "n = int(input(\"Nhập vào một số nguyên dương N (N>1) :\"))\n",
    "count = 0\n",
    "for i in range(2,n):\n",
    "    for j in range(2, i+1):\n",
    "        if(i%j==0):\n",
    "            count += 1\n",
    "    \n",
    "        print(i)\n"
   ]
  },
  {
   "cell_type": "code",
   "execution_count": 17,
   "metadata": {},
   "outputs": [
    {
     "name": "stdout",
     "output_type": "stream",
     "text": [
      "Nhập vào một số tự nhiên ( > 0) :5\n",
      "5 (hệ 10) = 101 (hệ 2)\n"
     ]
    }
   ],
   "source": [
    "\n",
    "s= \"\"\n",
    "\n",
    "a = n = int(input(\"Nhập vào một số tự nhiên ( > 0) :\"))\n",
    "while n>0:\n",
    "    if (n %2 == 0):\n",
    "        s = s + \"0\"\n",
    "        n = n / 2\n",
    "    else:\n",
    "        s = s + \"1\"\n",
    "        n = ( n - 1) / 2\n",
    "\n",
    "print( a, \"(hệ 10)\", \"=\", \"\".join(reversed(s)), \"(hệ 2)\" )"
   ]
  },
  {
   "cell_type": "code",
   "execution_count": 18,
   "metadata": {},
   "outputs": [
    {
     "name": "stdout",
     "output_type": "stream",
     "text": [
      "Tổng số sinh viên trong lớp: 12\n",
      "Chiều cao của các sinh viên là:\n",
      " [1.65, 1.7, 1.55, 1.64, 1.78, 1.67, 1.59, 1.62, 1.45, 1.8, 1.69, 1.5]\n",
      "Sinh viên cao nhất: 1.8 (m)\n",
      "Sinh viên thấp nhất: 1.45 (m)\n",
      "chiều cao trung bình của sinh viên: 1.6366666666666667 (m)\n",
      "Số sinh viên trong lớp có chiều cao >= chiều cao TB là:  7\n"
     ]
    }
   ],
   "source": [
    "x = [1.65, 1.7, 1.55, 1.64, 1.78, 1.67, 1.59, 1.62, 1.45, 1.8, 1.69, 1.5]\n",
    "z = x[0]\n",
    "y = x[0]\n",
    "s = 0\n",
    "n = 0\n",
    "\n",
    "for i in x:\n",
    "    if ( z < i):\n",
    "        z = i\n",
    "    if ( y > i):\n",
    "        y = i\n",
    "    s += i\n",
    "for i in x:\n",
    "    if( i >= ( s / len(x))):\n",
    "        n += 1\n",
    "print(\"Tổng số sinh viên trong lớp:\", len(x))\n",
    "print(\"Chiều cao của các sinh viên là:\\n\", x)\n",
    "print(\"Sinh viên cao nhất:\", z, \"(m)\")\n",
    "print(\"Sinh viên thấp nhất:\", y, \"(m)\")\n",
    "print(\"chiều cao trung bình của sinh viên:\", s/len(x), \"(m)\")\n",
    "print(\"Số sinh viên trong lớp có chiều cao >= chiều cao TB là: \", n)\n",
    "    "
   ]
  },
  {
   "cell_type": "code",
   "execution_count": 5,
   "metadata": {},
   "outputs": [
    {
     "name": "stdout",
     "output_type": "stream",
     "text": [
      "nhap vao so luong phan tu: 3\n",
      "nhap vao a[0]: 2\n",
      "nhap vao a[1]: 3\n",
      "nhap vao a[2]: 4\n",
      "max:  4\n"
     ]
    }
   ],
   "source": [
    "n = int(input(\"nhap vao so luong phan tu: \"))\n",
    "\n",
    "list = []\n",
    "for i in range (0,n):\n",
    "    m = int(input(\"nhap vao a[\"+ str(i)+ \"]: \"))\n",
    "    list.append(m)\n",
    "max = list[0]\n",
    "for j in range(len(list)):\n",
    "    if max < list[j]:\n",
    "        max = list[j]\n",
    "print('max: ', max)\n"
   ]
  },
  {
   "cell_type": "code",
   "execution_count": null,
   "metadata": {},
   "outputs": [],
   "source": []
  }
 ],
 "metadata": {
  "kernelspec": {
   "display_name": "Python 3",
   "language": "python",
   "name": "python3"
  },
  "language_info": {
   "codemirror_mode": {
    "name": "ipython",
    "version": 3
   },
   "file_extension": ".py",
   "mimetype": "text/x-python",
   "name": "python",
   "nbconvert_exporter": "python",
   "pygments_lexer": "ipython3",
   "version": "3.7.4"
  },
  "widgets": {
   "application/vnd.jupyter.widget-state+json": {
    "state": {},
    "version_major": 2,
    "version_minor": 0
   }
  }
 },
 "nbformat": 4,
 "nbformat_minor": 2
}
