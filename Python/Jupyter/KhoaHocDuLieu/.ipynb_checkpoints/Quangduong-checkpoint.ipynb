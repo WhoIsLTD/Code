{
 "cells": [
  {
   "cell_type": "code",
   "execution_count": 20,
   "metadata": {},
   "outputs": [
    {
     "name": "stdout",
     "output_type": "stream",
     "text": [
      "[0, 1, 2, 4, 5]\n",
      "Quãng đường:  1\n",
      "Đỉnh:  2\n",
      "[1, 0, 4, 4, 3]\n",
      "Quãng đường:  3\n",
      "Đỉnh:  5\n",
      "[5, 3, 2, 3, 0]\n",
      "Quãng đường:  2\n",
      "Đỉnh:  3\n",
      "[2, 4, 0, 1, 2]\n",
      "Quãng đường:  1\n",
      "Đỉnh:  4\n",
      "[4, 4, 1, 0, 3]\n",
      "Quãng đường:  100\n",
      "Đỉnh:  1\n",
      "Các đỉnh đã đi qua:  [0, 1, 4, 2, 3, 0]\n",
      "Quãng đường ngắn nhất là:  107\n"
     ]
    }
   ],
   "source": [
    "ds = [[0,1,2,4,5],\n",
    "      [1,0,4,4,3],\n",
    "      [2,4,0,1,2],\n",
    "      [4,4,1,0,3],\n",
    "      [5,3,2,3,0]]\n",
    "\n",
    "ds_dinh = [0]\n",
    "def Min (ds,dqd):\n",
    "    Min = 100\n",
    "    dinh = 0\n",
    "    \n",
    "    for  i in range (0,5):\n",
    "        if (ds[i] < Min and ds[i] != 0 and i not in dqd ):\n",
    "            if len(dqd) == 5:\n",
    "                Min = ds[i]\n",
    "                dinh = i\n",
    "        \n",
    "    dqd.append(dinh)\n",
    "    return Min, dinh\n",
    "s = 0\n",
    "for i in range (0,5):\n",
    "    i = ds_dinh[i]\n",
    "    print(ds[i])\n",
    "    qd, dinh = Min(ds[i], ds_dinh)\n",
    "    print (\"Quãng đường: \",qd)\n",
    "    print (\"Đỉnh: \",dinh + 1)\n",
    "    s += qd\n",
    "print (\"Các đỉnh đã đi qua: \",ds_dinh)\n",
    "print ('Quãng đường ngắn nhất là: ',s)"
   ]
  },
  {
   "cell_type": "code",
   "execution_count": null,
   "metadata": {},
   "outputs": [],
   "source": []
  }
 ],
 "metadata": {
  "kernelspec": {
   "display_name": "Python 3.7.6 64-bit",
   "language": "python",
   "name": "python37664bitd4a2f2800ab94c20a4188e87f700acfb"
  },
  "language_info": {
   "codemirror_mode": {
    "name": "ipython",
    "version": 3
   },
   "file_extension": ".py",
   "mimetype": "text/x-python",
   "name": "python",
   "nbconvert_exporter": "python",
   "pygments_lexer": "ipython3",
   "version": "3.7.6"
  }
 },
 "nbformat": 4,
 "nbformat_minor": 2
}
