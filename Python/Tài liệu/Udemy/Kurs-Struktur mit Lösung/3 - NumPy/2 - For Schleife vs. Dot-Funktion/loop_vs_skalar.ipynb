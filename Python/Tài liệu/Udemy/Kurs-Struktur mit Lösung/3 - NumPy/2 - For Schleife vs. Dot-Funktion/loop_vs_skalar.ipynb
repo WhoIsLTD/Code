{
 "cells": [
  {
   "cell_type": "markdown",
   "metadata": {},
   "source": [
    "## For Loop vs. Skalarprodukt Speedtest"
   ]
  },
  {
   "cell_type": "code",
   "execution_count": 2,
   "metadata": {},
   "outputs": [],
   "source": [
    "import numpy as np\n",
    "import time"
   ]
  },
  {
   "cell_type": "code",
   "execution_count": 3,
   "metadata": {},
   "outputs": [],
   "source": [
    "# Helper Klasse\n",
    "class Timer(object):\n",
    "    \"\"\"\n",
    "    Record timing information.\n",
    "    \"\"\"\n",
    "    def __init__(self, *steps):\n",
    "        self._time_per_step = dict.fromkeys(steps)\n",
    "\n",
    "    def __getitem__(self, item):\n",
    "        return self.time_per_step[item]\n",
    "\n",
    "    @property\n",
    "    def time_per_step(self):\n",
    "        return {\n",
    "            step: elapsed_time\n",
    "            for step, elapsed_time in self._time_per_step.items()\n",
    "            if elapsed_time is not None and elapsed_time > 0\n",
    "        }\n",
    "\n",
    "    def start_for(self, step):\n",
    "        self._time_per_step[step] = -time.time()\n",
    "\n",
    "    def stop_for(self, step):\n",
    "        self._time_per_step[step] += time.time()"
   ]
  },
  {
   "cell_type": "code",
   "execution_count": 4,
   "metadata": {},
   "outputs": [
    {
     "data": {
      "text/plain": [
       "array([1, 2])"
      ]
     },
     "execution_count": 4,
     "metadata": {},
     "output_type": "execute_result"
    }
   ],
   "source": [
    "A = np.array([1, 2])\n",
    "A"
   ]
  },
  {
   "cell_type": "code",
   "execution_count": 5,
   "metadata": {},
   "outputs": [
    {
     "data": {
      "text/plain": [
       "array([2, 1])"
      ]
     },
     "execution_count": 5,
     "metadata": {},
     "output_type": "execute_result"
    }
   ],
   "source": [
    "B = np.array([2, 1])\n",
    "B"
   ]
  },
  {
   "cell_type": "code",
   "execution_count": 6,
   "metadata": {},
   "outputs": [
    {
     "data": {
      "text/plain": [
       "4"
      ]
     },
     "execution_count": 6,
     "metadata": {},
     "output_type": "execute_result"
    }
   ],
   "source": [
    "dot = 0\n",
    "for i, j in zip(A, B):\n",
    "    dot += i * j\n",
    "dot"
   ]
  },
  {
   "cell_type": "code",
   "execution_count": 8,
   "metadata": {},
   "outputs": [
    {
     "data": {
      "text/plain": [
       "array([1, 4])"
      ]
     },
     "execution_count": 8,
     "metadata": {},
     "output_type": "execute_result"
    }
   ],
   "source": [
    "A * A"
   ]
  },
  {
   "cell_type": "code",
   "execution_count": 9,
   "metadata": {},
   "outputs": [
    {
     "data": {
      "text/plain": [
       "4"
      ]
     },
     "execution_count": 9,
     "metadata": {},
     "output_type": "execute_result"
    }
   ],
   "source": [
    "np.sum(A * B)"
   ]
  },
  {
   "cell_type": "code",
   "execution_count": 10,
   "metadata": {},
   "outputs": [
    {
     "data": {
      "text/plain": [
       "4"
      ]
     },
     "execution_count": 10,
     "metadata": {},
     "output_type": "execute_result"
    }
   ],
   "source": [
    "np.dot(A, B)"
   ]
  },
  {
   "cell_type": "code",
   "execution_count": 11,
   "metadata": {},
   "outputs": [
    {
     "data": {
      "text/plain": [
       "4"
      ]
     },
     "execution_count": 11,
     "metadata": {},
     "output_type": "execute_result"
    }
   ],
   "source": [
    "A.dot(B)"
   ]
  },
  {
   "cell_type": "markdown",
   "metadata": {},
   "source": [
    "### Speedtest"
   ]
  },
  {
   "cell_type": "code",
   "execution_count": 12,
   "metadata": {},
   "outputs": [],
   "source": [
    "main_timer = Timer('loop', 'numpy')"
   ]
  },
  {
   "cell_type": "code",
   "execution_count": 13,
   "metadata": {},
   "outputs": [
    {
     "data": {
      "text/plain": [
       "array([-0.46808355,  0.9988787 , -0.47214694, -1.54511136, -0.81286203,\n",
       "        0.30273397,  0.28117534,  0.03028102, -0.06614801,  2.34762513,\n",
       "        0.52044331, -2.0845661 , -1.55083536,  0.09710963,  2.09311211,\n",
       "       -0.28053165, -0.52964506,  0.38580504, -0.84116826,  0.4624197 ,\n",
       "       -0.74880798, -0.64667097,  0.68970764,  0.25588497,  0.08127432,\n",
       "       -0.1309744 , -0.74587572,  0.61504915, -0.14872891, -0.80521677,\n",
       "        0.84080285,  0.53430502, -0.41892501,  0.7812082 ,  0.10063993,\n",
       "        1.61187234,  0.83960402,  0.47522293,  1.93070452,  0.32965137,\n",
       "       -0.6539233 , -1.16794012, -0.60004655,  0.36493105, -1.68131924,\n",
       "       -0.21665403, -0.94215397,  0.75571729,  0.48813437,  0.86205839,\n",
       "        1.37812106, -0.84972028, -1.23503312, -0.0471597 , -0.91173814,\n",
       "        0.17515154, -0.80729537, -0.22631901,  1.95047671,  1.05092734,\n",
       "        0.70882274, -0.18547958, -1.77511956,  1.15046935,  2.43366376,\n",
       "        1.3566465 , -1.26013468, -0.07676897, -0.81033972, -0.22127008,\n",
       "       -0.4840055 ,  1.04395495, -0.65821407,  1.1719904 , -0.53301482,\n",
       "       -0.08600706,  1.22024397,  0.08812451, -0.74355875,  1.05409589,\n",
       "       -1.33242743, -0.77021255, -0.62826871, -0.98251325,  0.27391488,\n",
       "        0.77459296, -1.09747614, -0.9375176 , -2.01777317, -1.25862687,\n",
       "        0.07075235,  0.32869999, -0.31673247, -0.33398832, -0.73957294,\n",
       "        2.10796631,  0.24506466,  0.95679703,  0.61903597, -0.11406362])"
      ]
     },
     "execution_count": 13,
     "metadata": {},
     "output_type": "execute_result"
    }
   ],
   "source": [
    "A = np.random.randn(100)\n",
    "B = np.random.randn(100)\n",
    "T = 1000\n",
    "A"
   ]
  },
  {
   "cell_type": "code",
   "execution_count": 20,
   "metadata": {},
   "outputs": [],
   "source": [
    "def python_dot(A, B):\n",
    "    dot = 0\n",
    "    for i, j in zip(A, B):\n",
    "        dot += i * j\n",
    "    return dot"
   ]
  },
  {
   "cell_type": "code",
   "execution_count": 21,
   "metadata": {},
   "outputs": [],
   "source": [
    "main_timer.start_for('loop')\n",
    "for _ in range(T):\n",
    "    python_dot(A, B)\n",
    "main_timer.stop_for('loop')"
   ]
  },
  {
   "cell_type": "code",
   "execution_count": 22,
   "metadata": {},
   "outputs": [],
   "source": [
    "main_timer.start_for('numpy')\n",
    "for _ in range(T):\n",
    "    A.dot(B)\n",
    "main_timer.stop_for('numpy')"
   ]
  },
  {
   "cell_type": "code",
   "execution_count": 23,
   "metadata": {},
   "outputs": [
    {
     "name": "stdout",
     "output_type": "stream",
     "text": [
      "Numpy ist schneller um  15.490757304710794\n"
     ]
    }
   ],
   "source": [
    "print(\"Numpy ist schneller um \", (main_timer['loop'] / main_timer['numpy']))"
   ]
  },
  {
   "cell_type": "code",
   "execution_count": null,
   "metadata": {},
   "outputs": [],
   "source": []
  }
 ],
 "metadata": {
  "kernelspec": {
   "display_name": "Python 3",
   "language": "python",
   "name": "python3"
  },
  "language_info": {
   "codemirror_mode": {
    "name": "ipython",
    "version": 3
   },
   "file_extension": ".py",
   "mimetype": "text/x-python",
   "name": "python",
   "nbconvert_exporter": "python",
   "pygments_lexer": "ipython3",
   "version": "3.7.1"
  }
 },
 "nbformat": 4,
 "nbformat_minor": 2
}
