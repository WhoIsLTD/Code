{
 "cells": [
  {
   "cell_type": "markdown",
   "metadata": {},
   "source": [
    "## Weitere Matrix operationen"
   ]
  },
  {
   "cell_type": "code",
   "execution_count": 2,
   "metadata": {},
   "outputs": [],
   "source": [
    "import numpy as np"
   ]
  },
  {
   "cell_type": "code",
   "execution_count": null,
   "metadata": {},
   "outputs": [],
   "source": []
  },
  {
   "cell_type": "markdown",
   "metadata": {},
   "source": [
    "#### Berechnen der Inverse\n",
    "\n",
    "Die Inverse von $A\\in R^{n\\times n}$ ist $A^{-1} \\in R^{n\\times n}$. Die Berechnung der Inverse ist sehr komplex und kann unter folgenden Link nachvollzogen werden.\n",
    "https://de.wikipedia.org/wiki/Inverse_Matrix"
   ]
  },
  {
   "cell_type": "code",
   "execution_count": null,
   "metadata": {},
   "outputs": [],
   "source": []
  },
  {
   "cell_type": "markdown",
   "metadata": {},
   "source": [
    "Um zu überprüfen, ob die Inverse korrekt ist, kann folgende Operation durchgeführt werden: $A\\cdot A^{-1}=A^{-1}\\cdot A=I$"
   ]
  },
  {
   "cell_type": "code",
   "execution_count": null,
   "metadata": {},
   "outputs": [],
   "source": []
  },
  {
   "cell_type": "code",
   "execution_count": null,
   "metadata": {},
   "outputs": [],
   "source": []
  },
  {
   "cell_type": "markdown",
   "metadata": {},
   "source": [
    "#### Berechnung der Determinante\n",
    "\n",
    "Die $0 \\times 0$-Matrix hat die Determinante 1.\n",
    "\n",
    "Für eine nur aus einem Koeffizienten bestehende $1 \\times 1$-Matrix $A$ ist: $\\det A = \\det \\begin{pmatrix}\n",
    " a_{11}\n",
    " \\end{pmatrix} = a_{11}.$\n",
    "\n",
    "Ist $A$ eine $2 \\times 2$-Matrix, dann ist: \n",
    "$\\det A=\\det\n",
    " \\begin{pmatrix}\n",
    " a_{11} & a_{12} \\\\\n",
    " a_{21} & a_{22}\n",
    " \\end{pmatrix}\n",
    "= a_{11} a_{22} - a_{12} a_{21}.$\n",
    "\n",
    "Für eine $3 \\times 3$-Matrix $A$ gilt die Formel: \n",
    "$\\begin{align}\n",
    "\\det A &= \\det\n",
    " \\begin{pmatrix}\n",
    " a_{11} & a_{12} & a_{13} \\\\\n",
    " a_{21} & a_{22} & a_{23} \\\\\n",
    " a_{31} & a_{32} & a_{33}\n",
    " \\end{pmatrix}\n",
    "\\\\ &= a_{11} a_{22} a_{33} +a_{12} a_{23} a_{31} + a_{13} a_{21} a_{32} - a_{13} a_{22} a_{31} - a_{12} a_{21} a_{33} - a_{11} a_{23} a_{32}.\n",
    "\\end{align}$"
   ]
  },
  {
   "cell_type": "code",
   "execution_count": null,
   "metadata": {},
   "outputs": [],
   "source": []
  },
  {
   "cell_type": "code",
   "execution_count": null,
   "metadata": {},
   "outputs": [],
   "source": []
  },
  {
   "cell_type": "code",
   "execution_count": null,
   "metadata": {},
   "outputs": [],
   "source": []
  },
  {
   "cell_type": "markdown",
   "metadata": {},
   "source": [
    "#### Andere Operationen "
   ]
  },
  {
   "cell_type": "code",
   "execution_count": null,
   "metadata": {},
   "outputs": [],
   "source": []
  },
  {
   "cell_type": "code",
   "execution_count": null,
   "metadata": {},
   "outputs": [],
   "source": []
  },
  {
   "cell_type": "code",
   "execution_count": null,
   "metadata": {},
   "outputs": [],
   "source": []
  },
  {
   "cell_type": "code",
   "execution_count": null,
   "metadata": {},
   "outputs": [],
   "source": []
  },
  {
   "cell_type": "code",
   "execution_count": null,
   "metadata": {},
   "outputs": [],
   "source": []
  }
 ],
 "metadata": {
  "kernelspec": {
   "display_name": "Python 3",
   "language": "python",
   "name": "python3"
  },
  "language_info": {
   "codemirror_mode": {
    "name": "ipython",
    "version": 3
   },
   "file_extension": ".py",
   "mimetype": "text/x-python",
   "name": "python",
   "nbconvert_exporter": "python",
   "pygments_lexer": "ipython3",
   "version": "3.7.3"
  }
 },
 "nbformat": 4,
 "nbformat_minor": 2
}
