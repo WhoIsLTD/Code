{
 "cells": [
  {
   "cell_type": "markdown",
   "metadata": {
    "collapsed": true
   },
   "source": [
    "# Optimization using SciPy"
   ]
  },
  {
   "cell_type": "markdown",
   "metadata": {},
   "source": [
    "### Simple Optimization (Minimum and Maximum)"
   ]
  },
  {
   "cell_type": "code",
   "execution_count": 55,
   "metadata": {},
   "outputs": [],
   "source": [
    "%matplotlib inline"
   ]
  },
  {
   "cell_type": "code",
   "execution_count": 56,
   "metadata": {},
   "outputs": [],
   "source": [
    "import matplotlib.pyplot as plt\n",
    "import numpy as np"
   ]
  },
  {
   "cell_type": "markdown",
   "metadata": {},
   "source": [
    "- Define a function: $f(x) = x^2+10\\sin(x)$"
   ]
  },
  {
   "cell_type": "code",
   "execution_count": 57,
   "metadata": {},
   "outputs": [],
   "source": [
    "def f(x):\n",
    "    return x**2 + 10*np.sin(x)"
   ]
  },
  {
   "cell_type": "code",
   "execution_count": 58,
   "metadata": {},
   "outputs": [
    {
     "data": {
      "text/plain": [
       "array([-10. ,  -9.6,  -9.2,  -8.8,  -8.4,  -8. ,  -7.6,  -7.2,  -6.8,\n",
       "        -6.4,  -6. ,  -5.6,  -5.2,  -4.8,  -4.4,  -4. ,  -3.6,  -3.2,\n",
       "        -2.8,  -2.4,  -2. ,  -1.6,  -1.2,  -0.8,  -0.4,   0. ,   0.4,\n",
       "         0.8,   1.2,   1.6,   2. ,   2.4,   2.8,   3.2,   3.6,   4. ,\n",
       "         4.4,   4.8,   5.2,   5.6,   6. ,   6.4,   6.8,   7.2,   7.6,\n",
       "         8. ,   8.4,   8.8,   9.2,   9.6,  10. ])"
      ]
     },
     "execution_count": 58,
     "metadata": {},
     "output_type": "execute_result"
    }
   ],
   "source": [
    "x = np.linspace(-10, 10, 51)\n",
    "x"
   ]
  },
  {
   "cell_type": "code",
   "execution_count": 59,
   "metadata": {},
   "outputs": [
    {
     "data": {
      "text/plain": [
       "array([105.44021111,  93.90326781,  82.41110086,  71.59082807,\n",
       "        62.01401092,  54.10641753,  48.08080328,  43.90332136,\n",
       "        41.29886649,  39.79450795,  38.79415498,  37.67266638,\n",
       "        35.87454656,  33.00164609,  28.87602074,  23.56802495,\n",
       "        17.38520443,  10.82374143,   4.4901185 ,  -0.99463181,\n",
       "        -5.09297427,  -7.43573603,  -7.88039086,  -6.53356091,\n",
       "        -3.73418342,   0.        ,   4.05418342,   7.81356091,\n",
       "        10.76039086,  12.55573603,  13.09297427,  12.51463181,\n",
       "        11.1898815 ,   9.65625857,   8.53479557,   8.43197505,\n",
       "         9.84397926,  13.07835391,  18.20545344,  25.04733362,\n",
       "        33.20584502,  42.12549205,  51.18113351,  59.77667864,\n",
       "        67.43919672,  73.89358247,  79.10598908,  83.28917193,\n",
       "        86.86889914,  90.41673219,  94.55978889])"
      ]
     },
     "execution_count": 59,
     "metadata": {},
     "output_type": "execute_result"
    }
   ],
   "source": [
    "y = f(x)\n",
    "y"
   ]
  },
  {
   "cell_type": "code",
   "execution_count": 60,
   "metadata": {
    "scrolled": true
   },
   "outputs": [
    {
     "data": {
      "image/png": "[encoded data removed]",
      "text/plain": [
       "<Figure size 400x320 with 1 Axes>"
      ]
     },
     "metadata": {
      "needs_background": "light"
     },
     "output_type": "display_data"
    }
   ],
   "source": [
    "fig = plt.figure(figsize=(5, 4), dpi=80)\n",
    "plt.plot(x, y)\n",
    "plt.grid()\n",
    "plt.show()"
   ]
  },
  {
   "cell_type": "code",
   "execution_count": 61,
   "metadata": {},
   "outputs": [],
   "source": [
    "import scipy.optimize as opt"
   ]
  },
  {
   "cell_type": "code",
   "execution_count": 62,
   "metadata": {},
   "outputs": [],
   "source": [
    "x0 = 0"
   ]
  },
  {
   "cell_type": "markdown",
   "metadata": {},
   "source": [
    "- Find a minimum of the function `f(x)` using the BFGS (Broyden–Fletcher–Goldfarb–Shanno) method, starting from a initial point `x0 = 0`."
   ]
  },
  {
   "cell_type": "code",
   "execution_count": 63,
   "metadata": {},
   "outputs": [
    {
     "name": "stdout",
     "output_type": "stream",
     "text": [
      "Optimization terminated successfully.\n",
      "         Current function value: -7.945823\n",
      "         Iterations: 5\n",
      "         Function evaluations: 18\n",
      "         Gradient evaluations: 6\n"
     ]
    }
   ],
   "source": [
    "[xopt, fopt, gopt, Bopt, func_calls, grad_calls, warnflg] = \\\n",
    "    opt.fmin_bfgs(f,  # Objective function to be minimized.\n",
    "              x0=0,  # Initial guess.\n",
    "              maxiter=2000,  # Maximum number of iterations to perform.\n",
    "              full_output=True)  # Return fopt, func_calls, grad_calls, and warnflag in addition to xopt."
   ]
  },
  {
   "cell_type": "code",
   "execution_count": 64,
   "metadata": {},
   "outputs": [
    {
     "data": {
      "text/plain": [
       "array([-1.30644012])"
      ]
     },
     "execution_count": 64,
     "metadata": {},
     "output_type": "execute_result"
    }
   ],
   "source": [
    "xopt"
   ]
  },
  {
   "cell_type": "code",
   "execution_count": 65,
   "metadata": {},
   "outputs": [
    {
     "data": {
      "text/plain": [
       "-7.945823375615215"
      ]
     },
     "execution_count": 65,
     "metadata": {},
     "output_type": "execute_result"
    }
   ],
   "source": [
    "fopt"
   ]
  },
  {
   "cell_type": "code",
   "execution_count": 66,
   "metadata": {
    "scrolled": false
   },
   "outputs": [
    {
     "data": {
      "image/png": "[encoded data removed]",
      "text/plain": [
       "<Figure size 400x320 with 1 Axes>"
      ]
     },
     "metadata": {
      "needs_background": "light"
     },
     "output_type": "display_data"
    }
   ],
   "source": [
    "fig = plt.figure(figsize=(5, 4), dpi=80)\n",
    "plt.plot(x, y)\n",
    "plt.plot([x0, xopt], [f(x0), fopt], 'o')\n",
    "plt.grid()\n",
    "plt.show()"
   ]
  },
  {
   "cell_type": "markdown",
   "metadata": {},
   "source": [
    "- What if we start from x0 = 6?"
   ]
  },
  {
   "cell_type": "code",
   "execution_count": 67,
   "metadata": {},
   "outputs": [],
   "source": [
    "x0 = 6"
   ]
  },
  {
   "cell_type": "code",
   "execution_count": 68,
   "metadata": {},
   "outputs": [
    {
     "name": "stdout",
     "output_type": "stream",
     "text": [
      "Optimization terminated successfully.\n",
      "         Current function value: 8.315586\n",
      "         Iterations: 7\n",
      "         Function evaluations: 24\n",
      "         Gradient evaluations: 8\n"
     ]
    }
   ],
   "source": [
    "[xopt, fopt, gopt, Bopt, func_calls, grad_calls, warnflg] = \\\n",
    "    opt.fmin_bfgs(f,  # Objective function to be minimized.\n",
    "              x0=6,  # Initial guess.\n",
    "              maxiter=2000,  # Maximum number of iterations to perform.\n",
    "              full_output=True)  # Return fopt, func_calls, grad_calls, and warnflag in addition to xopt."
   ]
  },
  {
   "cell_type": "code",
   "execution_count": 69,
   "metadata": {},
   "outputs": [
    {
     "data": {
      "text/plain": [
       "array([3.83746709])"
      ]
     },
     "execution_count": 69,
     "metadata": {},
     "output_type": "execute_result"
    }
   ],
   "source": [
    "xopt"
   ]
  },
  {
   "cell_type": "code",
   "execution_count": 70,
   "metadata": {},
   "outputs": [
    {
     "data": {
      "text/plain": [
       "8.315585579477458"
      ]
     },
     "execution_count": 70,
     "metadata": {},
     "output_type": "execute_result"
    }
   ],
   "source": [
    "fopt"
   ]
  },
  {
   "cell_type": "code",
   "execution_count": 71,
   "metadata": {
    "scrolled": true
   },
   "outputs": [
    {
     "data": {
      "image/png": "[encoded data removed]",
      "text/plain": [
       "<Figure size 400x320 with 1 Axes>"
      ]
     },
     "metadata": {
      "needs_background": "light"
     },
     "output_type": "display_data"
    }
   ],
   "source": [
    "fig = plt.figure(figsize=(5, 4), dpi=80)\n",
    "plt.plot(x, y)\n",
    "plt.plot([x0, xopt], [f(x0), fopt], 'o')\n",
    "plt.grid('on')\n",
    "plt.show()"
   ]
  },
  {
   "cell_type": "markdown",
   "metadata": {},
   "source": [
    "- Find the global minimum using the basinhopping method."
   ]
  },
  {
   "cell_type": "code",
   "execution_count": 87,
   "metadata": {},
   "outputs": [
    {
     "data": {
      "text/plain": [
       "                        fun: -7.9458233756152845\n",
       " lowest_optimization_result:       fun: -7.9458233756152845\n",
       " hess_inv: array([[0.08578534]])\n",
       "      jac: array([1.1920929e-07])\n",
       "  message: 'Optimization terminated successfully.'\n",
       "     nfev: 18\n",
       "      nit: 4\n",
       "     njev: 6\n",
       "   status: 0\n",
       "  success: True\n",
       "        x: array([-1.30644001])\n",
       "                    message: ['requested number of basinhopping iterations completed successfully']\n",
       "      minimization_failures: 0\n",
       "                       nfev: 1809\n",
       "                        nit: 100\n",
       "                       njev: 603\n",
       "                          x: array([-1.30644001])"
      ]
     },
     "execution_count": 87,
     "metadata": {},
     "output_type": "execute_result"
    }
   ],
   "source": [
    "res = opt.basinhopping(f, \n",
    "                     x0=6, \n",
    "                     T=1,  # The “temperature” parameter\n",
    "                     stepsize=2)  # Initial step size\n",
    "res"
   ]
  },
  {
   "cell_type": "code",
   "execution_count": 73,
   "metadata": {
    "scrolled": true
   },
   "outputs": [
    {
     "data": {
      "image/png": "[encoded data removed]",
      "text/plain": [
       "<Figure size 400x320 with 1 Axes>"
      ]
     },
     "metadata": {
      "needs_background": "light"
     },
     "output_type": "display_data"
    }
   ],
   "source": [
    "fig = plt.figure(figsize=(5, 4), dpi=80)\n",
    "plt.plot(x, y)\n",
    "plt.plot([x0, res.x], [f(x0), res.fun], 'o')\n",
    "plt.grid('on')\n",
    "plt.show()"
   ]
  },
  {
   "cell_type": "markdown",
   "metadata": {},
   "source": [
    "### Solving Equations"
   ]
  },
  {
   "cell_type": "markdown",
   "metadata": {},
   "source": [
    "- Solve the equation $f(x)=x^2+10\\sin(x)=0$."
   ]
  },
  {
   "cell_type": "code",
   "execution_count": 74,
   "metadata": {},
   "outputs": [
    {
     "data": {
      "text/plain": [
       "array([0.])"
      ]
     },
     "execution_count": 74,
     "metadata": {},
     "output_type": "execute_result"
    }
   ],
   "source": [
    "x0 = 1\n",
    "xopt = opt.fsolve(f, x0)  # Find a root with initial guess x0\n",
    "xopt"
   ]
  },
  {
   "cell_type": "code",
   "execution_count": 75,
   "metadata": {},
   "outputs": [
    {
     "data": {
      "image/png": "[encoded data removed]",
      "text/plain": [
       "<Figure size 400x320 with 1 Axes>"
      ]
     },
     "metadata": {
      "needs_background": "light"
     },
     "output_type": "display_data"
    }
   ],
   "source": [
    "fig = plt.figure(figsize=(5, 4), dpi=80)\n",
    "plt.plot(x, y)\n",
    "plt.plot([x0, xopt], [f(x0), f(xopt)], 'o')\n",
    "plt.grid('on')\n",
    "plt.show()"
   ]
  },
  {
   "cell_type": "code",
   "execution_count": 76,
   "metadata": {},
   "outputs": [
    {
     "data": {
      "text/plain": [
       "array([-2.47948183])"
      ]
     },
     "execution_count": 76,
     "metadata": {},
     "output_type": "execute_result"
    }
   ],
   "source": [
    "x0 = -3\n",
    "xopt = opt.fsolve(f, x0)  # Find a root with initial guess x0\n",
    "xopt"
   ]
  },
  {
   "cell_type": "code",
   "execution_count": 77,
   "metadata": {
    "scrolled": true
   },
   "outputs": [
    {
     "data": {
      "image/png": "[encoded data removed]",
      "text/plain": [
       "<Figure size 400x320 with 1 Axes>"
      ]
     },
     "metadata": {
      "needs_background": "light"
     },
     "output_type": "display_data"
    }
   ],
   "source": [
    "fig = plt.figure(figsize=(5, 4), dpi=80)\n",
    "plt.plot(x, y)\n",
    "plt.plot([x0, xopt], [f(x0), f(xopt)], 'o')\n",
    "plt.grid('on')\n",
    "plt.show()"
   ]
  },
  {
   "cell_type": "markdown",
   "metadata": {},
   "source": [
    "### Curve Fitting"
   ]
  },
  {
   "cell_type": "markdown",
   "metadata": {},
   "source": [
    "- Curve fitting is a procedure for finding the best-fitting curve to a given set of points by minimizing the sum of the squares of the offsets (\"the residuals\") of the points from the curve.\n",
    "<img src=\"images/curve_fitting_1.png\" alt=\"Curve Fitting 1\", style=\"width: 150px;\"/>\n",
    "<img src=\"images/curve_fitting_2.png\" alt=\"Curve Fitting 2\", style=\"width: 150px;\"/>\n",
    "<img src=\"images/curve_fitting_3.png\" alt=\"Curve Fitting 3\", style=\"width: 150px;\"/>"
   ]
  },
  {
   "cell_type": "code",
   "execution_count": 78,
   "metadata": {},
   "outputs": [
    {
     "data": {
      "text/plain": [
       "array([-10. ,  -9.6,  -9.2,  -8.8,  -8.4,  -8. ,  -7.6,  -7.2,  -6.8,\n",
       "        -6.4,  -6. ,  -5.6,  -5.2,  -4.8,  -4.4,  -4. ,  -3.6,  -3.2,\n",
       "        -2.8,  -2.4,  -2. ,  -1.6,  -1.2,  -0.8,  -0.4,   0. ,   0.4,\n",
       "         0.8,   1.2,   1.6,   2. ,   2.4,   2.8,   3.2,   3.6,   4. ,\n",
       "         4.4,   4.8,   5.2,   5.6,   6. ,   6.4,   6.8,   7.2,   7.6,\n",
       "         8. ,   8.4,   8.8,   9.2,   9.6,  10. ])"
      ]
     },
     "execution_count": 78,
     "metadata": {},
     "output_type": "execute_result"
    }
   ],
   "source": [
    "x"
   ]
  },
  {
   "cell_type": "code",
   "execution_count": 79,
   "metadata": {},
   "outputs": [
    {
     "data": {
      "text/plain": [
       "array([105.44021111,  93.90326781,  82.41110086,  71.59082807,\n",
       "        62.01401092,  54.10641753,  48.08080328,  43.90332136,\n",
       "        41.29886649,  39.79450795,  38.79415498,  37.67266638,\n",
       "        35.87454656,  33.00164609,  28.87602074,  23.56802495,\n",
       "        17.38520443,  10.82374143,   4.4901185 ,  -0.99463181,\n",
       "        -5.09297427,  -7.43573603,  -7.88039086,  -6.53356091,\n",
       "        -3.73418342,   0.        ,   4.05418342,   7.81356091,\n",
       "        10.76039086,  12.55573603,  13.09297427,  12.51463181,\n",
       "        11.1898815 ,   9.65625857,   8.53479557,   8.43197505,\n",
       "         9.84397926,  13.07835391,  18.20545344,  25.04733362,\n",
       "        33.20584502,  42.12549205,  51.18113351,  59.77667864,\n",
       "        67.43919672,  73.89358247,  79.10598908,  83.28917193,\n",
       "        86.86889914,  90.41673219,  94.55978889])"
      ]
     },
     "execution_count": 79,
     "metadata": {},
     "output_type": "execute_result"
    }
   ],
   "source": [
    "y"
   ]
  },
  {
   "cell_type": "code",
   "execution_count": 80,
   "metadata": {
    "scrolled": true
   },
   "outputs": [
    {
     "data": {
      "image/png": "[encoded data removed]",
      "text/plain": [
       "<Figure size 400x320 with 1 Axes>"
      ]
     },
     "metadata": {
      "needs_background": "light"
     },
     "output_type": "display_data"
    }
   ],
   "source": [
    "fig = plt.figure(figsize=(5, 4), dpi=80)\n",
    "plt.plot(x, y, 'x')\n",
    "plt.grid('on')\n",
    "plt.show()"
   ]
  },
  {
   "cell_type": "code",
   "execution_count": 81,
   "metadata": {
    "scrolled": true
   },
   "outputs": [
    {
     "data": {
      "text/plain": [
       "array([ 1.10889700e+02,  9.38385142e+01,  8.47538782e+01,  7.51950910e+01,\n",
       "        5.83893836e+01,  5.63493333e+01,  5.29039589e+01,  3.92616062e+01,\n",
       "        4.68566206e+01,  4.83101712e+01,  4.14130648e+01,  4.20829852e+01,\n",
       "        3.77468400e+01,  3.60008235e+01,  2.44646596e+01,  1.87034748e+01,\n",
       "        1.73147122e+01,  6.51696022e+00, -5.85975395e+00, -1.50310955e+00,\n",
       "        3.99513316e+00, -5.60730530e+00, -3.23694281e+00, -3.63237209e+00,\n",
       "       -3.72532269e+00, -4.63712455e+00, -4.31812008e+00,  1.01720844e+01,\n",
       "        1.16191199e+01,  1.77548399e+01,  9.37572062e+00,  1.28729762e+01,\n",
       "        1.36150574e+01,  1.37575081e+01,  8.32447499e-02,  9.54401064e+00,\n",
       "        8.75174466e+00,  9.06960261e+00,  2.29497814e+01,  2.47771718e+01,\n",
       "        3.07651020e+01,  4.97488782e+01,  4.66982388e+01,  6.35083911e+01,\n",
       "        6.05263277e+01,  6.32422640e+01,  7.58039723e+01,  9.03721098e+01,\n",
       "        8.61194761e+01,  9.34061306e+01,  9.73088877e+01])"
      ]
     },
     "execution_count": 81,
     "metadata": {},
     "output_type": "execute_result"
    }
   ],
   "source": [
    "y_noise = f(x) + 5*np.random.randn(x.size)  # Add some random noise\n",
    "y_noise"
   ]
  },
  {
   "cell_type": "code",
   "execution_count": 82,
   "metadata": {
    "scrolled": true
   },
   "outputs": [
    {
     "data": {
      "image/png": "[encoded data removed]",
      "text/plain": [
       "<Figure size 400x320 with 1 Axes>"
      ]
     },
     "metadata": {
      "needs_background": "light"
     },
     "output_type": "display_data"
    }
   ],
   "source": [
    "fig = plt.figure(figsize=(5, 4), dpi=80)\n",
    "plt.plot(x, y, 'x')\n",
    "plt.plot(x, y_noise, 'o')\n",
    "plt.grid('on')\n",
    "plt.show()"
   ]
  },
  {
   "cell_type": "markdown",
   "metadata": {},
   "source": [
    "- Fit a function $f_2(x)=ax^2+b\\sin(x)$ by determining the optimal values of the coefficients `a` and `b`."
   ]
  },
  {
   "cell_type": "code",
   "execution_count": 83,
   "metadata": {},
   "outputs": [],
   "source": [
    "def f2(x, a, b):\n",
    "    return a*x**2 + b*np.sin(x)"
   ]
  },
  {
   "cell_type": "code",
   "execution_count": 84,
   "metadata": {},
   "outputs": [
    {
     "data": {
      "text/plain": [
       "array([1.01421159, 8.91726319])"
      ]
     },
     "execution_count": 84,
     "metadata": {},
     "output_type": "execute_result"
    }
   ],
   "source": [
    "guess = [2, 2]  # Initial guess for a and b, respectively\n",
    "params, cov = opt.curve_fit(f2, x, y_noise, guess)\n",
    "params"
   ]
  },
  {
   "cell_type": "code",
   "execution_count": 85,
   "metadata": {},
   "outputs": [
    {
     "data": {
      "text/plain": [
       "array([106.27233832,  95.02425783,  83.85530086,  73.32468489,\n",
       "        63.94208633,  56.08717381,  49.94966691,  45.49938354,\n",
       "        42.49100507,  40.50280675,  39.00323874,  37.43484618,\n",
       "        35.30227905,  32.25049701,  28.12082251,  22.97599246,\n",
       "        17.09025345,  10.90606427,   4.96424136,  -0.18142421,\n",
       "        -4.05159812,  -6.31707923,  -6.85077315,  -5.74775765,\n",
       "        -3.310272  ,   0.        ,   3.63481971,   7.04594848,\n",
       "         9.77170252,  11.50984257,  12.16529083,  11.86514171,\n",
       "        10.93859636,   9.86498907,   9.19811093,   9.47877839,\n",
       "        11.14945021,  14.48437301,  19.54628368,  26.17650467,\n",
       "        34.01999566,  42.58140662,  51.30328267,  59.654074  ,\n",
       "        67.21205584,  73.73190957,  79.1834531 ,  83.756406  ,\n",
       "        87.83043692,  91.91522225,  96.56997947])"
      ]
     },
     "execution_count": 85,
     "metadata": {},
     "output_type": "execute_result"
    }
   ],
   "source": [
    "a = params[0]\n",
    "b = params[1]\n",
    "y_fit = f2(x, a, b)\n",
    "y_fit"
   ]
  },
  {
   "cell_type": "code",
   "execution_count": 86,
   "metadata": {
    "scrolled": false
   },
   "outputs": [
    {
     "data": {
      "image/png": "[encoded data removed]",
      "text/plain": [
       "<Figure size 400x320 with 1 Axes>"
      ]
     },
     "metadata": {
      "needs_background": "light"
     },
     "output_type": "display_data"
    }
   ],
   "source": [
    "fig = plt.figure(figsize=(5, 4), dpi=80)\n",
    "plt.plot(x, y_fit)\n",
    "plt.plot(x, y_noise, 'o')\n",
    "plt.grid('on')\n",
    "plt.show()"
   ]
  },
  {
   "cell_type": "markdown",
   "metadata": {},
   "source": [
    "### Course Materials on YouTube and GitHub"
   ]
  },
  {
   "cell_type": "markdown",
   "metadata": {},
   "source": [
    "- Course videos are hosted by YouTube (http://youtube.com/yongtwang).\n",
    "- Course documents (Jupyter Notebooks and Python source code) are hosted by GitHub (http://github.com/yongtwang)."
   ]
  }
 ],
 "metadata": {
  "kernelspec": {
   "display_name": "Python 3",
   "language": "python",
   "name": "python3"
  },
  "language_info": {
   "codemirror_mode": {
    "name": "ipython",
    "version": 3
   },
   "file_extension": ".py",
   "mimetype": "text/x-python",
   "name": "python",
   "nbconvert_exporter": "python",
   "pygments_lexer": "ipython3",
   "version": "3.7.3"
  }
 },
 "nbformat": 4,
 "nbformat_minor": 2
}
