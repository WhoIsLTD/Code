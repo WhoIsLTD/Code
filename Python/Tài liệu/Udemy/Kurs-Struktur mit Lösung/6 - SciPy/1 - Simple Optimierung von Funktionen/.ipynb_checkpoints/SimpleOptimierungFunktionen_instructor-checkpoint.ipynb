{
 "cells": [
  {
   "cell_type": "markdown",
   "metadata": {},
   "source": [
    "## Simple Optimierung von Funktionen"
   ]
  },
  {
   "cell_type": "code",
   "execution_count": 1,
   "metadata": {},
   "outputs": [],
   "source": [
    "%matplotlib inline\n",
    "import matplotlib.pyplot as plt\n",
    "import numpy as np"
   ]
  },
  {
   "cell_type": "markdown",
   "metadata": {},
   "source": [
    "Die Berechnung des globalen Maximums bzw. Minimums liefert uns eine Aussage über den Wertebereich einer Funktion\n",
    "\n",
    "$ f\\colon U\\to\\mathbb R $\n",
    "\n",
    "auf ihrem Definitionsbereich $ D$. Dabei wird die größte untere und kleinste obere Schranke unserer Funktion berechnet (auch Supremum bzw. Infimum genannt).\n",
    "\n",
    "Besonders interessant ist das bei der Beantwortung der Frage, ob eine Funktion beschränkt ist, d.h. ob der Wertebereich bestimmte Grenzen nicht über- oder unterschreitet."
   ]
  },
  {
   "cell_type": "markdown",
   "metadata": {},
   "source": [
    "### Kein Sorge!\n",
    "Wir schauen uns nun an wie wir das mithilfe von SciPy lösen können!\n",
    "\n",
    "- Lass uns erstmal diese Funktion definieren: $f(x) = x^2+10\\sin(x)$"
   ]
  },
  {
   "cell_type": "code",
   "execution_count": 2,
   "metadata": {},
   "outputs": [],
   "source": [
    "def f(x):\n",
    "    return x**2 + 10*np.sin(x)"
   ]
  },
  {
   "cell_type": "code",
   "execution_count": 3,
   "metadata": {},
   "outputs": [
    {
     "data": {
      "text/plain": [
       "array([-10. ,  -9.6,  -9.2,  -8.8,  -8.4,  -8. ,  -7.6,  -7.2,  -6.8,\n",
       "        -6.4,  -6. ,  -5.6,  -5.2,  -4.8,  -4.4,  -4. ,  -3.6,  -3.2,\n",
       "        -2.8,  -2.4,  -2. ,  -1.6,  -1.2,  -0.8,  -0.4,   0. ,   0.4,\n",
       "         0.8,   1.2,   1.6,   2. ,   2.4,   2.8,   3.2,   3.6,   4. ,\n",
       "         4.4,   4.8,   5.2,   5.6,   6. ,   6.4,   6.8,   7.2,   7.6,\n",
       "         8. ,   8.4,   8.8,   9.2,   9.6,  10. ])"
      ]
     },
     "execution_count": 3,
     "metadata": {},
     "output_type": "execute_result"
    }
   ],
   "source": [
    "x = np.linspace(-10, 10, 51)\n",
    "x"
   ]
  },
  {
   "cell_type": "code",
   "execution_count": 4,
   "metadata": {},
   "outputs": [
    {
     "data": {
      "text/plain": [
       "array([105.44021111,  93.90326781,  82.41110086,  71.59082807,\n",
       "        62.01401092,  54.10641753,  48.08080328,  43.90332136,\n",
       "        41.29886649,  39.79450795,  38.79415498,  37.67266638,\n",
       "        35.87454656,  33.00164609,  28.87602074,  23.56802495,\n",
       "        17.38520443,  10.82374143,   4.4901185 ,  -0.99463181,\n",
       "        -5.09297427,  -7.43573603,  -7.88039086,  -6.53356091,\n",
       "        -3.73418342,   0.        ,   4.05418342,   7.81356091,\n",
       "        10.76039086,  12.55573603,  13.09297427,  12.51463181,\n",
       "        11.1898815 ,   9.65625857,   8.53479557,   8.43197505,\n",
       "         9.84397926,  13.07835391,  18.20545344,  25.04733362,\n",
       "        33.20584502,  42.12549205,  51.18113351,  59.77667864,\n",
       "        67.43919672,  73.89358247,  79.10598908,  83.28917193,\n",
       "        86.86889914,  90.41673219,  94.55978889])"
      ]
     },
     "execution_count": 4,
     "metadata": {},
     "output_type": "execute_result"
    }
   ],
   "source": [
    "y = f(x)\n",
    "y"
   ]
  },
  {
   "cell_type": "code",
   "execution_count": 5,
   "metadata": {},
   "outputs": [
    {
     "data": {
      "image/png": "[encoded data removed]",
      "text/plain": [
       "<Figure size 400x320 with 1 Axes>"
      ]
     },
     "metadata": {
      "needs_background": "light"
     },
     "output_type": "display_data"
    }
   ],
   "source": [
    "fig = plt.figure(figsize=(5, 4), dpi=80)\n",
    "plt.plot(x, y)\n",
    "plt.grid()\n",
    "plt.show()"
   ]
  },
  {
   "cell_type": "code",
   "execution_count": 6,
   "metadata": {},
   "outputs": [],
   "source": [
    "import scipy.optimize as opt"
   ]
  },
  {
   "cell_type": "code",
   "execution_count": 7,
   "metadata": {},
   "outputs": [],
   "source": [
    "x0 = 0"
   ]
  },
  {
   "cell_type": "markdown",
   "metadata": {},
   "source": [
    "- Finde das minimum von `f(x)` mithilife des Algorithmus BFGS (Broyden–Fletcher–Goldfarb–Shanno). Wir starten bei Punkt `x0 = 0`."
   ]
  },
  {
   "cell_type": "code",
   "execution_count": 8,
   "metadata": {},
   "outputs": [
    {
     "name": "stdout",
     "output_type": "stream",
     "text": [
      "Optimization terminated successfully.\n",
      "         Current function value: -7.945823\n",
      "         Iterations: 5\n",
      "         Function evaluations: 18\n",
      "         Gradient evaluations: 6\n"
     ]
    }
   ],
   "source": [
    "[xopt, fopt, gopt, Bopt, func_calls, grad_calls, warnflg] = opt.fmin_bfgs(f,  # Objective function to be minimized.\n",
    "                                                                          x0=x0,\n",
    "                                                                          maxiter=2000,\n",
    "                                                                          full_output=True)"
   ]
  },
  {
   "cell_type": "code",
   "execution_count": 9,
   "metadata": {},
   "outputs": [
    {
     "data": {
      "text/plain": [
       "(array([-1.30644012]), -7.945823375615215)"
      ]
     },
     "execution_count": 9,
     "metadata": {},
     "output_type": "execute_result"
    }
   ],
   "source": [
    "xopt, fopt"
   ]
  },
  {
   "cell_type": "code",
   "execution_count": 10,
   "metadata": {},
   "outputs": [
    {
     "data": {
      "image/png": "[encoded data removed]",
      "text/plain": [
       "<Figure size 400x320 with 1 Axes>"
      ]
     },
     "metadata": {
      "needs_background": "light"
     },
     "output_type": "display_data"
    }
   ],
   "source": [
    "fig = plt.figure(figsize=(5, 4), dpi=80)\n",
    "plt.plot(x, y)\n",
    "plt.plot([x0, xopt], [f(x0), fopt], 'o')\n",
    "plt.grid()\n",
    "plt.show()"
   ]
  },
  {
   "cell_type": "markdown",
   "metadata": {},
   "source": [
    "- was ist aber wenn wir bei `x0 = 6`"
   ]
  },
  {
   "cell_type": "code",
   "execution_count": 11,
   "metadata": {},
   "outputs": [],
   "source": [
    "x0 = 6"
   ]
  },
  {
   "cell_type": "code",
   "execution_count": 12,
   "metadata": {},
   "outputs": [
    {
     "name": "stdout",
     "output_type": "stream",
     "text": [
      "Optimization terminated successfully.\n",
      "         Current function value: 8.315586\n",
      "         Iterations: 7\n",
      "         Function evaluations: 24\n",
      "         Gradient evaluations: 8\n"
     ]
    }
   ],
   "source": [
    "[xopt, fopt, gopt, Bopt, func_calls, grad_calls, warnflg] = opt.fmin_bfgs(f,  # Objective function to be minimized.\n",
    "                                                                          x0=x0,\n",
    "                                                                          maxiter=2000,\n",
    "                                                                          full_output=True)"
   ]
  },
  {
   "cell_type": "code",
   "execution_count": 13,
   "metadata": {},
   "outputs": [
    {
     "data": {
      "text/plain": [
       "(array([3.83746709]), 8.315585579477458)"
      ]
     },
     "execution_count": 13,
     "metadata": {},
     "output_type": "execute_result"
    }
   ],
   "source": [
    "xopt, fopt"
   ]
  },
  {
   "cell_type": "code",
   "execution_count": 14,
   "metadata": {},
   "outputs": [
    {
     "data": {
      "image/png": "[encoded data removed]",
      "text/plain": [
       "<Figure size 400x320 with 1 Axes>"
      ]
     },
     "metadata": {
      "needs_background": "light"
     },
     "output_type": "display_data"
    }
   ],
   "source": [
    "fig = plt.figure(figsize=(5, 4), dpi=80)\n",
    "plt.plot(x, y)\n",
    "plt.plot([x0, xopt], [f(x0), fopt], 'o')\n",
    "plt.grid()\n",
    "plt.show()"
   ]
  }
 ],
 "metadata": {
  "kernelspec": {
   "display_name": "Python 3",
   "language": "python",
   "name": "python3"
  },
  "language_info": {
   "codemirror_mode": {
    "name": "ipython",
    "version": 3
   },
   "file_extension": ".py",
   "mimetype": "text/x-python",
   "name": "python",
   "nbconvert_exporter": "python",
   "pygments_lexer": "ipython3",
   "version": "3.7.3"
  }
 },
 "nbformat": 4,
 "nbformat_minor": 2
}
