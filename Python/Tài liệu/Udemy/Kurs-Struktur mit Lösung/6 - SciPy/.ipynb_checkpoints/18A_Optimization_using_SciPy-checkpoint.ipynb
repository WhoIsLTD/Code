{
 "cells": [
  {
   "cell_type": "markdown",
   "metadata": {
    "collapsed": true
   },
   "source": [
    "# Optimization using SciPy"
   ]
  },
  {
   "cell_type": "markdown",
   "metadata": {},
   "source": [
    "### Simple Optimization (Minimum and Maximum)"
   ]
  },
  {
   "cell_type": "code",
   "execution_count": 67,
   "metadata": {},
   "outputs": [],
   "source": [
    "%matplotlib inline"
   ]
  },
  {
   "cell_type": "code",
   "execution_count": 68,
   "metadata": {},
   "outputs": [],
   "source": [
    "import matplotlib.pyplot as plt\n",
    "import numpy as np"
   ]
  },
  {
   "cell_type": "markdown",
   "metadata": {},
   "source": [
    "- Define a function: $f(x) = x^2+10\\sin(x)$"
   ]
  },
  {
   "cell_type": "code",
   "execution_count": 69,
   "metadata": {},
   "outputs": [],
   "source": [
    "def f(x):\n",
    "    return x**2 + 10*np.sin(x)"
   ]
  },
  {
   "cell_type": "code",
   "execution_count": 70,
   "metadata": {},
   "outputs": [
    {
     "data": {
      "text/plain": [
       "array([-10. ,  -9.6,  -9.2,  -8.8,  -8.4,  -8. ,  -7.6,  -7.2,  -6.8,\n",
       "        -6.4,  -6. ,  -5.6,  -5.2,  -4.8,  -4.4,  -4. ,  -3.6,  -3.2,\n",
       "        -2.8,  -2.4,  -2. ,  -1.6,  -1.2,  -0.8,  -0.4,   0. ,   0.4,\n",
       "         0.8,   1.2,   1.6,   2. ,   2.4,   2.8,   3.2,   3.6,   4. ,\n",
       "         4.4,   4.8,   5.2,   5.6,   6. ,   6.4,   6.8,   7.2,   7.6,\n",
       "         8. ,   8.4,   8.8,   9.2,   9.6,  10. ])"
      ]
     },
     "execution_count": 70,
     "metadata": {},
     "output_type": "execute_result"
    }
   ],
   "source": [
    "x = np.linspace(-10, 10, 51)\n",
    "x"
   ]
  },
  {
   "cell_type": "code",
   "execution_count": 71,
   "metadata": {},
   "outputs": [
    {
     "data": {
      "text/plain": [
       "array([105.44021111,  93.90326781,  82.41110086,  71.59082807,\n",
       "        62.01401092,  54.10641753,  48.08080328,  43.90332136,\n",
       "        41.29886649,  39.79450795,  38.79415498,  37.67266638,\n",
       "        35.87454656,  33.00164609,  28.87602074,  23.56802495,\n",
       "        17.38520443,  10.82374143,   4.4901185 ,  -0.99463181,\n",
       "        -5.09297427,  -7.43573603,  -7.88039086,  -6.53356091,\n",
       "        -3.73418342,   0.        ,   4.05418342,   7.81356091,\n",
       "        10.76039086,  12.55573603,  13.09297427,  12.51463181,\n",
       "        11.1898815 ,   9.65625857,   8.53479557,   8.43197505,\n",
       "         9.84397926,  13.07835391,  18.20545344,  25.04733362,\n",
       "        33.20584502,  42.12549205,  51.18113351,  59.77667864,\n",
       "        67.43919672,  73.89358247,  79.10598908,  83.28917193,\n",
       "        86.86889914,  90.41673219,  94.55978889])"
      ]
     },
     "execution_count": 71,
     "metadata": {},
     "output_type": "execute_result"
    }
   ],
   "source": [
    "y = f(x)\n",
    "y"
   ]
  },
  {
   "cell_type": "code",
   "execution_count": 72,
   "metadata": {
    "scrolled": true
   },
   "outputs": [
    {
     "data": {
      "image/png": "[encoded data removed]",
      "text/plain": [
       "<Figure size 400x320 with 1 Axes>"
      ]
     },
     "metadata": {
      "needs_background": "light"
     },
     "output_type": "display_data"
    }
   ],
   "source": [
    "fig = plt.figure(figsize=(5, 4), dpi=80)\n",
    "plt.plot(x, y)\n",
    "plt.grid()\n",
    "plt.show()"
   ]
  },
  {
   "cell_type": "code",
   "execution_count": 73,
   "metadata": {},
   "outputs": [],
   "source": [
    "import scipy.optimize as opt"
   ]
  },
  {
   "cell_type": "markdown",
   "metadata": {},
   "source": [
    "- Find a minimum of the function `f(x)` using the BFGS (Broyden–Fletcher–Goldfarb–Shanno) method, starting from a initial point `x0 = 0`."
   ]
  },
  {
   "cell_type": "code",
   "execution_count": 74,
   "metadata": {},
   "outputs": [
    {
     "name": "stdout",
     "output_type": "stream",
     "text": [
      "Optimization terminated successfully.\n",
      "         Current function value: -7.945823\n",
      "         Iterations: 5\n",
      "         Function evaluations: 18\n",
      "         Gradient evaluations: 6\n"
     ]
    }
   ],
   "source": [
    "[xopt, fopt, gopt, Bopt, func_calls, grad_calls, warnflg] = \\\n",
    "    opt.fmin_bfgs(f,  # Objective function to be minimized.\n",
    "              x0=0,  # Initial guess.\n",
    "              maxiter=2000,  # Maximum number of iterations to perform.\n",
    "              full_output=True)  # Return fopt, func_calls, grad_calls, and warnflag in addition to xopt."
   ]
  },
  {
   "cell_type": "code",
   "execution_count": 75,
   "metadata": {},
   "outputs": [
    {
     "data": {
      "text/plain": [
       "array([-1.30644012])"
      ]
     },
     "execution_count": 75,
     "metadata": {},
     "output_type": "execute_result"
    }
   ],
   "source": [
    "xopt"
   ]
  },
  {
   "cell_type": "code",
   "execution_count": 76,
   "metadata": {},
   "outputs": [
    {
     "data": {
      "text/plain": [
       "-7.945823375615215"
      ]
     },
     "execution_count": 76,
     "metadata": {},
     "output_type": "execute_result"
    }
   ],
   "source": [
    "fopt"
   ]
  },
  {
   "cell_type": "code",
   "execution_count": 77,
   "metadata": {
    "scrolled": false
   },
   "outputs": [
    {
     "data": {
      "image/png": "[encoded data removed]",
      "text/plain": [
       "<Figure size 400x320 with 1 Axes>"
      ]
     },
     "metadata": {
      "needs_background": "light"
     },
     "output_type": "display_data"
    }
   ],
   "source": [
    "fig = plt.figure(figsize=(5, 4), dpi=80)\n",
    "plt.plot(x, y)\n",
    "plt.plot([x0, xopt], [f(x0), fopt], 'o')\n",
    "plt.grid()\n",
    "plt.show()"
   ]
  },
  {
   "cell_type": "markdown",
   "metadata": {},
   "source": [
    "- What if we start from x0 = 6?"
   ]
  },
  {
   "cell_type": "code",
   "execution_count": 78,
   "metadata": {},
   "outputs": [
    {
     "name": "stdout",
     "output_type": "stream",
     "text": [
      "Optimization terminated successfully.\n",
      "         Current function value: 8.315586\n",
      "         Iterations: 7\n",
      "         Function evaluations: 24\n",
      "         Gradient evaluations: 8\n"
     ]
    }
   ],
   "source": [
    "[xopt, fopt, gopt, Bopt, func_calls, grad_calls, warnflg] = \\\n",
    "    opt.fmin_bfgs(f,  # Objective function to be minimized.\n",
    "              x0=6,  # Initial guess.\n",
    "              maxiter=2000,  # Maximum number of iterations to perform.\n",
    "              full_output=True)  # Return fopt, func_calls, grad_calls, and warnflag in addition to xopt."
   ]
  },
  {
   "cell_type": "code",
   "execution_count": 79,
   "metadata": {},
   "outputs": [
    {
     "data": {
      "text/plain": [
       "array([3.83746709])"
      ]
     },
     "execution_count": 79,
     "metadata": {},
     "output_type": "execute_result"
    }
   ],
   "source": [
    "xopt"
   ]
  },
  {
   "cell_type": "code",
   "execution_count": 80,
   "metadata": {},
   "outputs": [
    {
     "data": {
      "text/plain": [
       "8.315585579477458"
      ]
     },
     "execution_count": 80,
     "metadata": {},
     "output_type": "execute_result"
    }
   ],
   "source": [
    "fopt"
   ]
  },
  {
   "cell_type": "code",
   "execution_count": 81,
   "metadata": {
    "scrolled": true
   },
   "outputs": [
    {
     "data": {
      "image/png": "[encoded data removed]",
      "text/plain": [
       "<Figure size 400x320 with 1 Axes>"
      ]
     },
     "metadata": {
      "needs_background": "light"
     },
     "output_type": "display_data"
    }
   ],
   "source": [
    "fig = plt.figure(figsize=(5, 4), dpi=80)\n",
    "plt.plot(x, y)\n",
    "plt.plot([x0, xopt], [f(x0), fopt], 'o')\n",
    "plt.grid('on')\n",
    "plt.show()"
   ]
  },
  {
   "cell_type": "markdown",
   "metadata": {},
   "source": [
    "- Find the global minimum using the basinhopping method."
   ]
  },
  {
   "cell_type": "code",
   "execution_count": 82,
   "metadata": {},
   "outputs": [
    {
     "data": {
      "text/plain": [
       "                        fun: -7.945823375615284\n",
       " lowest_optimization_result:       fun: -7.945823375615284\n",
       " hess_inv: array([[0.08585255]])\n",
       "      jac: array([5.96046448e-08])\n",
       "  message: 'Optimization terminated successfully.'\n",
       "     nfev: 30\n",
       "      nit: 4\n",
       "     njev: 10\n",
       "   status: 0\n",
       "  success: True\n",
       "        x: array([-1.30644002])\n",
       "                    message: ['requested number of basinhopping iterations completed successfully']\n",
       "      minimization_failures: 0\n",
       "                       nfev: 1908\n",
       "                        nit: 100\n",
       "                       njev: 636\n",
       "                          x: array([-1.30644002])"
      ]
     },
     "execution_count": 82,
     "metadata": {},
     "output_type": "execute_result"
    }
   ],
   "source": [
    "res = \\\n",
    "    opt.basinhopping(f, \n",
    "                     x0=6, \n",
    "                     T=1,  # The “temperature” parameter\n",
    "                     stepsize=2)  # Initial step size\n",
    "res"
   ]
  },
  {
   "cell_type": "code",
   "execution_count": 83,
   "metadata": {
    "scrolled": true
   },
   "outputs": [
    {
     "data": {
      "image/png": "[encoded data removed]",
      "text/plain": [
       "<Figure size 400x320 with 1 Axes>"
      ]
     },
     "metadata": {
      "needs_background": "light"
     },
     "output_type": "display_data"
    }
   ],
   "source": [
    "fig = plt.figure(figsize=(5, 4), dpi=80)\n",
    "plt.plot(x, y)\n",
    "plt.plot([x0, res.x], [f(x0), res.fun], 'o')\n",
    "plt.grid('on')\n",
    "plt.show()"
   ]
  },
  {
   "cell_type": "markdown",
   "metadata": {},
   "source": [
    "### Solving Equations"
   ]
  },
  {
   "cell_type": "markdown",
   "metadata": {},
   "source": [
    "- Solve the equation $f(x)=x^2+10\\sin(x)=0$."
   ]
  },
  {
   "cell_type": "code",
   "execution_count": 84,
   "metadata": {},
   "outputs": [
    {
     "data": {
      "text/plain": [
       "array([0.])"
      ]
     },
     "execution_count": 84,
     "metadata": {},
     "output_type": "execute_result"
    }
   ],
   "source": [
    "x0 = 1\n",
    "xopt = opt.fsolve(f, x0)  # Find a root with initial guess x0\n",
    "xopt"
   ]
  },
  {
   "cell_type": "code",
   "execution_count": 85,
   "metadata": {},
   "outputs": [
    {
     "data": {
      "image/png": "[encoded data removed]",
      "text/plain": [
       "<Figure size 400x320 with 1 Axes>"
      ]
     },
     "metadata": {
      "needs_background": "light"
     },
     "output_type": "display_data"
    }
   ],
   "source": [
    "fig = plt.figure(figsize=(5, 4), dpi=80)\n",
    "plt.plot(x, y)\n",
    "plt.plot([x0, xopt], [f(x0), f(xopt)], 'o')\n",
    "plt.grid('on')\n",
    "plt.show()"
   ]
  },
  {
   "cell_type": "code",
   "execution_count": 86,
   "metadata": {},
   "outputs": [
    {
     "data": {
      "text/plain": [
       "array([-2.47948183])"
      ]
     },
     "execution_count": 86,
     "metadata": {},
     "output_type": "execute_result"
    }
   ],
   "source": [
    "x0 = -3\n",
    "xopt = opt.fsolve(f, x0)  # Find a root with initial guess x0\n",
    "xopt"
   ]
  },
  {
   "cell_type": "code",
   "execution_count": 87,
   "metadata": {
    "scrolled": true
   },
   "outputs": [
    {
     "data": {
      "image/png": "[encoded data removed]",
      "text/plain": [
       "<Figure size 400x320 with 1 Axes>"
      ]
     },
     "metadata": {
      "needs_background": "light"
     },
     "output_type": "display_data"
    }
   ],
   "source": [
    "fig = plt.figure(figsize=(5, 4), dpi=80)\n",
    "plt.plot(x, y)\n",
    "plt.plot([x0, xopt], [f(x0), f(xopt)], 'o')\n",
    "plt.grid('on')\n",
    "plt.show()"
   ]
  },
  {
   "cell_type": "markdown",
   "metadata": {},
   "source": [
    "### Curve Fitting"
   ]
  },
  {
   "cell_type": "markdown",
   "metadata": {},
   "source": [
    "- Curve fitting is a procedure for finding the best-fitting curve to a given set of points by minimizing the sum of the squares of the offsets (\"the residuals\") of the points from the curve.\n",
    "<img src=\"images/curve_fitting_1.png\" alt=\"Curve Fitting 1\", style=\"width: 150px;\"/>\n",
    "<img src=\"images/curve_fitting_2.png\" alt=\"Curve Fitting 2\", style=\"width: 150px;\"/>\n",
    "<img src=\"images/curve_fitting_3.png\" alt=\"Curve Fitting 3\", style=\"width: 150px;\"/>"
   ]
  },
  {
   "cell_type": "code",
   "execution_count": 88,
   "metadata": {},
   "outputs": [
    {
     "data": {
      "text/plain": [
       "array([-10. ,  -9.6,  -9.2,  -8.8,  -8.4,  -8. ,  -7.6,  -7.2,  -6.8,\n",
       "        -6.4,  -6. ,  -5.6,  -5.2,  -4.8,  -4.4,  -4. ,  -3.6,  -3.2,\n",
       "        -2.8,  -2.4,  -2. ,  -1.6,  -1.2,  -0.8,  -0.4,   0. ,   0.4,\n",
       "         0.8,   1.2,   1.6,   2. ,   2.4,   2.8,   3.2,   3.6,   4. ,\n",
       "         4.4,   4.8,   5.2,   5.6,   6. ,   6.4,   6.8,   7.2,   7.6,\n",
       "         8. ,   8.4,   8.8,   9.2,   9.6,  10. ])"
      ]
     },
     "execution_count": 88,
     "metadata": {},
     "output_type": "execute_result"
    }
   ],
   "source": [
    "x"
   ]
  },
  {
   "cell_type": "code",
   "execution_count": 89,
   "metadata": {},
   "outputs": [
    {
     "data": {
      "text/plain": [
       "array([105.44021111,  93.90326781,  82.41110086,  71.59082807,\n",
       "        62.01401092,  54.10641753,  48.08080328,  43.90332136,\n",
       "        41.29886649,  39.79450795,  38.79415498,  37.67266638,\n",
       "        35.87454656,  33.00164609,  28.87602074,  23.56802495,\n",
       "        17.38520443,  10.82374143,   4.4901185 ,  -0.99463181,\n",
       "        -5.09297427,  -7.43573603,  -7.88039086,  -6.53356091,\n",
       "        -3.73418342,   0.        ,   4.05418342,   7.81356091,\n",
       "        10.76039086,  12.55573603,  13.09297427,  12.51463181,\n",
       "        11.1898815 ,   9.65625857,   8.53479557,   8.43197505,\n",
       "         9.84397926,  13.07835391,  18.20545344,  25.04733362,\n",
       "        33.20584502,  42.12549205,  51.18113351,  59.77667864,\n",
       "        67.43919672,  73.89358247,  79.10598908,  83.28917193,\n",
       "        86.86889914,  90.41673219,  94.55978889])"
      ]
     },
     "execution_count": 89,
     "metadata": {},
     "output_type": "execute_result"
    }
   ],
   "source": [
    "y"
   ]
  },
  {
   "cell_type": "code",
   "execution_count": 90,
   "metadata": {
    "scrolled": true
   },
   "outputs": [
    {
     "data": {
      "image/png": "[encoded data removed]",
      "text/plain": [
       "<Figure size 400x320 with 1 Axes>"
      ]
     },
     "metadata": {
      "needs_background": "light"
     },
     "output_type": "display_data"
    }
   ],
   "source": [
    "fig = plt.figure(figsize=(5, 4), dpi=80)\n",
    "plt.plot(x, y, 'x')\n",
    "plt.grid('on')\n",
    "plt.show()"
   ]
  },
  {
   "cell_type": "code",
   "execution_count": 91,
   "metadata": {
    "scrolled": true
   },
   "outputs": [
    {
     "data": {
      "text/plain": [
       "array([104.7621028 ,  93.61476851,  83.36264672,  74.27919818,\n",
       "        65.3089221 ,  52.89912591,  46.46043228,  42.7349937 ,\n",
       "        45.46176548,  44.26028457,  39.89873868,  37.41467006,\n",
       "        34.03139754,  29.23164366,  23.9248943 ,  15.33498557,\n",
       "        14.96355551,  14.6901598 ,   4.08185783,   1.59003663,\n",
       "        -2.87369873,  -1.50574255,  -8.81285296,  -1.43910129,\n",
       "         1.94336129,  -3.50888534,   0.56728588,  20.52517859,\n",
       "        18.93349521,  16.53943204,  16.18663026,  16.93487445,\n",
       "         7.77922272,  14.22049887,   5.77219026,  -1.36918659,\n",
       "         2.26536012,  14.46156552,  28.13799472,  25.85113475,\n",
       "        33.06697578,  35.48403905,  54.65721143,  61.40133573,\n",
       "        64.31234813,  75.17788906,  79.37857767,  79.55825027,\n",
       "        77.44579788,  83.5754633 ,  99.41214158])"
      ]
     },
     "execution_count": 91,
     "metadata": {},
     "output_type": "execute_result"
    }
   ],
   "source": [
    "y_noise = f(x) + 5*np.random.randn(x.size)  # Add some random noise\n",
    "y_noise"
   ]
  },
  {
   "cell_type": "code",
   "execution_count": 92,
   "metadata": {
    "scrolled": true
   },
   "outputs": [
    {
     "data": {
      "image/png": "[encoded data removed]",
      "text/plain": [
       "<Figure size 400x320 with 1 Axes>"
      ]
     },
     "metadata": {
      "needs_background": "light"
     },
     "output_type": "display_data"
    }
   ],
   "source": [
    "fig = plt.figure(figsize=(5, 4), dpi=80)\n",
    "plt.plot(x, y, 'x')\n",
    "plt.plot(x, y_noise, 'o')\n",
    "plt.grid('on')\n",
    "plt.show()"
   ]
  },
  {
   "cell_type": "markdown",
   "metadata": {},
   "source": [
    "- Fit a function $f_2(x)=ax^2+b\\sin(x)$ by determining the optimal values of the coefficients `a` and `b`."
   ]
  },
  {
   "cell_type": "code",
   "execution_count": 93,
   "metadata": {},
   "outputs": [],
   "source": [
    "def f2(x, a, b):\n",
    "    return a*x**2 + b*np.sin(x)"
   ]
  },
  {
   "cell_type": "code",
   "execution_count": 94,
   "metadata": {},
   "outputs": [
    {
     "data": {
      "text/plain": [
       "array([0.99107304, 9.52415712])"
      ]
     },
     "execution_count": 94,
     "metadata": {},
     "output_type": "execute_result"
    }
   ],
   "source": [
    "guess = [2, 2]  # Initial guess for a and b, respectively\n",
    "params, cov = opt.curve_fit(f2, x, y_noise, guess)\n",
    "params"
   ]
  },
  {
   "cell_type": "code",
   "execution_count": 95,
   "metadata": {},
   "outputs": [
    {
     "data": {
      "text/plain": [
       "array([104.28864687,  92.99760733,  81.76158382,  71.17785322,\n",
       "        61.79077966,  54.00587138,  48.02575994,  43.81820913,\n",
       "        41.12120433,  39.48431891,  38.33982667,  37.09233328,\n",
       "        35.21277604,  32.32195117,  28.25038179,  23.06507457,\n",
       "        17.05894087,  10.70455248,   4.57953288,  -0.72463673,\n",
       "        -4.69599939,  -6.98294906,  -7.44974152,  -6.19792538,\n",
       "        -3.55030979,   0.        ,   3.86745317,   7.46649887,\n",
       "        10.30403188,  12.05724304,  12.62458374,  12.14179819,\n",
       "        10.96049244,   9.59262345,   8.62967241,   8.64926282,\n",
       "        10.12396645,  13.34669466,  18.38445414,  25.06776799,\n",
       "        33.01743245,  41.70438479,  50.53323072,  58.936244  ,\n",
       "        66.46299802,  72.85147816,  78.06944821,  82.31953972,\n",
       "        86.00726095,  89.67697602,  93.92596179])"
      ]
     },
     "execution_count": 95,
     "metadata": {},
     "output_type": "execute_result"
    }
   ],
   "source": [
    "a = params[0]\n",
    "b = params[1]\n",
    "y_fit = f2(x, a, b)\n",
    "y_fit"
   ]
  },
  {
   "cell_type": "code",
   "execution_count": 96,
   "metadata": {
    "scrolled": false
   },
   "outputs": [
    {
     "data": {
      "image/png": "[encoded data removed]",
      "text/plain": [
       "<Figure size 400x320 with 1 Axes>"
      ]
     },
     "metadata": {
      "needs_background": "light"
     },
     "output_type": "display_data"
    }
   ],
   "source": [
    "fig = plt.figure(figsize=(5, 4), dpi=80)\n",
    "plt.plot(x, y_fit)\n",
    "plt.plot(x, y_noise, 'o')\n",
    "plt.grid('on')\n",
    "plt.show()"
   ]
  },
  {
   "cell_type": "markdown",
   "metadata": {},
   "source": [
    "### Course Materials on YouTube and GitHub"
   ]
  },
  {
   "cell_type": "markdown",
   "metadata": {},
   "source": [
    "- Course videos are hosted by YouTube (http://youtube.com/yongtwang).\n",
    "- Course documents (Jupyter Notebooks and Python source code) are hosted by GitHub (http://github.com/yongtwang)."
   ]
  }
 ],
 "metadata": {
  "kernelspec": {
   "display_name": "Python 3",
   "language": "python",
   "name": "python3"
  },
  "language_info": {
   "codemirror_mode": {
    "name": "ipython",
    "version": 3
   },
   "file_extension": ".py",
   "mimetype": "text/x-python",
   "name": "python",
   "nbconvert_exporter": "python",
   "pygments_lexer": "ipython3",
   "version": "3.7.3"
  }
 },
 "nbformat": 4,
 "nbformat_minor": 2
}
