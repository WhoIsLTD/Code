{
 "cells": [
  {
   "cell_type": "markdown",
   "metadata": {},
   "source": [
    "## Daten visualisieren mit Liniendiagramme"
   ]
  },
  {
   "cell_type": "code",
   "execution_count": 91,
   "metadata": {},
   "outputs": [],
   "source": [
    "import numpy as np\n",
    "import pandas as pd\n",
    "\n",
    "%matplotlib inline\n",
    "import matplotlib\n",
    "import matplotlib.pyplot as plt"
   ]
  },
  {
   "cell_type": "code",
   "execution_count": 92,
   "metadata": {},
   "outputs": [
    {
     "data": {
      "text/html": [
       "<div>\n",
       "<style scoped>\n",
       "    .dataframe tbody tr th:only-of-type {\n",
       "        vertical-align: middle;\n",
       "    }\n",
       "\n",
       "    .dataframe tbody tr th {\n",
       "        vertical-align: top;\n",
       "    }\n",
       "\n",
       "    .dataframe thead th {\n",
       "        text-align: right;\n",
       "    }\n",
       "</style>\n",
       "<table border=\"1\" class=\"dataframe\">\n",
       "  <thead>\n",
       "    <tr style=\"text-align: right;\">\n",
       "      <th></th>\n",
       "      <th>seller</th>\n",
       "      <th>price</th>\n",
       "      <th>vehicleType</th>\n",
       "      <th>yearOfRegistration</th>\n",
       "      <th>gearbox</th>\n",
       "      <th>powerPS</th>\n",
       "      <th>model</th>\n",
       "      <th>kilometer</th>\n",
       "      <th>fuelType</th>\n",
       "      <th>brand</th>\n",
       "      <th>dateCreated</th>\n",
       "      <th>postalCode</th>\n",
       "    </tr>\n",
       "  </thead>\n",
       "  <tbody>\n",
       "    <tr>\n",
       "      <th>0</th>\n",
       "      <td>privat</td>\n",
       "      <td>480</td>\n",
       "      <td>NaN</td>\n",
       "      <td>1993</td>\n",
       "      <td>manuell</td>\n",
       "      <td>0</td>\n",
       "      <td>golf</td>\n",
       "      <td>150000</td>\n",
       "      <td>benzin</td>\n",
       "      <td>volkswagen</td>\n",
       "      <td>2016-03-24 00:00:00</td>\n",
       "      <td>70435</td>\n",
       "    </tr>\n",
       "    <tr>\n",
       "      <th>1</th>\n",
       "      <td>privat</td>\n",
       "      <td>18300</td>\n",
       "      <td>coupe</td>\n",
       "      <td>2011</td>\n",
       "      <td>manuell</td>\n",
       "      <td>190</td>\n",
       "      <td>NaN</td>\n",
       "      <td>125000</td>\n",
       "      <td>diesel</td>\n",
       "      <td>audi</td>\n",
       "      <td>2016-03-24 00:00:00</td>\n",
       "      <td>66954</td>\n",
       "    </tr>\n",
       "    <tr>\n",
       "      <th>2</th>\n",
       "      <td>privat</td>\n",
       "      <td>9800</td>\n",
       "      <td>suv</td>\n",
       "      <td>2004</td>\n",
       "      <td>automatik</td>\n",
       "      <td>163</td>\n",
       "      <td>grand</td>\n",
       "      <td>125000</td>\n",
       "      <td>diesel</td>\n",
       "      <td>jeep</td>\n",
       "      <td>2016-03-14 00:00:00</td>\n",
       "      <td>90480</td>\n",
       "    </tr>\n",
       "    <tr>\n",
       "      <th>3</th>\n",
       "      <td>privat</td>\n",
       "      <td>1500</td>\n",
       "      <td>kleinwagen</td>\n",
       "      <td>2001</td>\n",
       "      <td>manuell</td>\n",
       "      <td>75</td>\n",
       "      <td>golf</td>\n",
       "      <td>150000</td>\n",
       "      <td>benzin</td>\n",
       "      <td>volkswagen</td>\n",
       "      <td>2016-03-17 00:00:00</td>\n",
       "      <td>91074</td>\n",
       "    </tr>\n",
       "    <tr>\n",
       "      <th>4</th>\n",
       "      <td>privat</td>\n",
       "      <td>3600</td>\n",
       "      <td>kleinwagen</td>\n",
       "      <td>2008</td>\n",
       "      <td>manuell</td>\n",
       "      <td>69</td>\n",
       "      <td>fabia</td>\n",
       "      <td>90000</td>\n",
       "      <td>diesel</td>\n",
       "      <td>skoda</td>\n",
       "      <td>2016-03-31 00:00:00</td>\n",
       "      <td>60437</td>\n",
       "    </tr>\n",
       "  </tbody>\n",
       "</table>\n",
       "</div>"
      ],
      "text/plain": [
       "   seller  price vehicleType  yearOfRegistration    gearbox  powerPS  model  \\\n",
       "0  privat    480         NaN                1993    manuell        0   golf   \n",
       "1  privat  18300       coupe                2011    manuell      190    NaN   \n",
       "2  privat   9800         suv                2004  automatik      163  grand   \n",
       "3  privat   1500  kleinwagen                2001    manuell       75   golf   \n",
       "4  privat   3600  kleinwagen                2008    manuell       69  fabia   \n",
       "\n",
       "   kilometer fuelType       brand          dateCreated  postalCode  \n",
       "0     150000   benzin  volkswagen  2016-03-24 00:00:00       70435  \n",
       "1     125000   diesel        audi  2016-03-24 00:00:00       66954  \n",
       "2     125000   diesel        jeep  2016-03-14 00:00:00       90480  \n",
       "3     150000   benzin  volkswagen  2016-03-17 00:00:00       91074  \n",
       "4      90000   diesel       skoda  2016-03-31 00:00:00       60437  "
      ]
     },
     "execution_count": 92,
     "metadata": {},
     "output_type": "execute_result"
    }
   ],
   "source": [
    "X = pd.read_csv('autos_stripped.csv', header=0, index_col=0, encoding='ISO-8859-1')\n",
    "X.head()"
   ]
  },
  {
   "cell_type": "code",
   "execution_count": 93,
   "metadata": {},
   "outputs": [],
   "source": [
    "x = np.arange(-8, 8, 0.1)"
   ]
  },
  {
   "cell_type": "code",
   "execution_count": 94,
   "metadata": {},
   "outputs": [],
   "source": [
    "y = np.sin(x)"
   ]
  },
  {
   "cell_type": "code",
   "execution_count": 95,
   "metadata": {},
   "outputs": [
    {
     "data": {
      "text/plain": [
       "[<matplotlib.lines.Line2D at 0x2e0998959b0>]"
      ]
     },
     "execution_count": 95,
     "metadata": {},
     "output_type": "execute_result"
    },
    {
     "data": {
      "image/png": "[encoded data removed]",
      "text/plain": [
       "<Figure size 432x288 with 1 Axes>"
      ]
     },
     "metadata": {
      "needs_background": "light"
     },
     "output_type": "display_data"
    }
   ],
   "source": [
    "plt.plot(x, y)"
   ]
  },
  {
   "cell_type": "code",
   "execution_count": 96,
   "metadata": {},
   "outputs": [
    {
     "data": {
      "image/png": "[encoded data removed]",
      "text/plain": [
       "<Figure size 432x288 with 1 Axes>"
      ]
     },
     "metadata": {
      "needs_background": "light"
     },
     "output_type": "display_data"
    }
   ],
   "source": [
    "z = np.cos(x)\n",
    "plt.plot(x, y)\n",
    "plt.plot(x, z)\n",
    "plt.show()"
   ]
  },
  {
   "cell_type": "code",
   "execution_count": 97,
   "metadata": {},
   "outputs": [
    {
     "data": {
      "text/plain": [
       "1000     38\n",
       "1001      1\n",
       "1039      1\n",
       "1111      4\n",
       "1200      1\n",
       "1234      4\n",
       "1253      1\n",
       "1255      1\n",
       "1300      2\n",
       "1400      1\n",
       "1500      5\n",
       "1600      2\n",
       "1602      1\n",
       "1688      1\n",
       "1800      5\n",
       "1910    104\n",
       "1911      1\n",
       "1915      1\n",
       "1919      1\n",
       "1920      1\n",
       "1923      3\n",
       "1925      1\n",
       "1927      2\n",
       "1928      2\n",
       "1929      8\n",
       "1930      5\n",
       "1931      4\n",
       "1932      4\n",
       "1933      6\n",
       "1934      5\n",
       "       ... \n",
       "3700      1\n",
       "3800      1\n",
       "4000      3\n",
       "4100      1\n",
       "4500      2\n",
       "4800      1\n",
       "5000     18\n",
       "5300      1\n",
       "5555      2\n",
       "5600      1\n",
       "5900      1\n",
       "5911      2\n",
       "6000      6\n",
       "6200      1\n",
       "6500      1\n",
       "7000      4\n",
       "7100      1\n",
       "7500      2\n",
       "7777      1\n",
       "7800      1\n",
       "8000      2\n",
       "8200      1\n",
       "8455      1\n",
       "8500      1\n",
       "8888      2\n",
       "9000      5\n",
       "9229      1\n",
       "9450      1\n",
       "9996      1\n",
       "9999     27\n",
       "Name: yearOfRegistration, Length: 155, dtype: int64"
      ]
     },
     "execution_count": 97,
     "metadata": {},
     "output_type": "execute_result"
    }
   ],
   "source": [
    "numberOfRows = X['yearOfRegistration'].value_counts().sort_index()\n",
    "numberOfRows"
   ]
  },
  {
   "cell_type": "code",
   "execution_count": 98,
   "metadata": {},
   "outputs": [
    {
     "data": {
      "text/plain": [
       "1910      104\n",
       "1960      214\n",
       "1965      121\n",
       "1966      160\n",
       "1967      142\n",
       "1968      147\n",
       "1969      154\n",
       "1970      370\n",
       "1971      199\n",
       "1972      248\n",
       "1973      205\n",
       "1974      201\n",
       "1975      152\n",
       "1976      193\n",
       "1977      193\n",
       "1978      307\n",
       "1979      312\n",
       "1980      629\n",
       "1981      284\n",
       "1982      335\n",
       "1983      455\n",
       "1984      422\n",
       "1985      787\n",
       "1986      576\n",
       "1987      697\n",
       "1988      965\n",
       "1989     1342\n",
       "1990     2852\n",
       "1991     2810\n",
       "1992     3048\n",
       "1993     3469\n",
       "1994     4872\n",
       "1995     9658\n",
       "1996    10886\n",
       "1997    14706\n",
       "1998    17951\n",
       "1999    22767\n",
       "2000    24551\n",
       "2001    20218\n",
       "2002    19189\n",
       "2003    19873\n",
       "2004    19746\n",
       "2005    22316\n",
       "2006    20230\n",
       "2007    17673\n",
       "2008    16175\n",
       "2009    15607\n",
       "2010    12354\n",
       "2011    12068\n",
       "2012     9418\n",
       "2013     6157\n",
       "2014     4802\n",
       "2015     2982\n",
       "2016     9859\n",
       "2017    10546\n",
       "2018     3993\n",
       "Name: yearOfRegistration, dtype: int64"
      ]
     },
     "execution_count": 98,
     "metadata": {},
     "output_type": "execute_result"
    }
   ],
   "source": [
    "numberOfRows = numberOfRows[numberOfRows > 100]\n",
    "numberOfRows"
   ]
  },
  {
   "cell_type": "code",
   "execution_count": 99,
   "metadata": {},
   "outputs": [],
   "source": [
    "x = numberOfRows.index.values\n",
    "y = numberOfRows.values"
   ]
  },
  {
   "cell_type": "code",
   "execution_count": 100,
   "metadata": {},
   "outputs": [
    {
     "data": {
      "image/png": "[encoded data removed]",
      "text/plain": [
       "<Figure size 432x288 with 1 Axes>"
      ]
     },
     "metadata": {
      "needs_background": "light"
     },
     "output_type": "display_data"
    }
   ],
   "source": [
    "plt.plot(x, y)\n",
    "plt.xlabel(\"Year\")\n",
    "plt.ylabel(\"Registration\")\n",
    "plt.show()"
   ]
  }
 ],
 "metadata": {
  "kernelspec": {
   "display_name": "Python 3",
   "language": "python",
   "name": "python3"
  },
  "language_info": {
   "codemirror_mode": {
    "name": "ipython",
    "version": 3
   },
   "file_extension": ".py",
   "mimetype": "text/x-python",
   "name": "python",
   "nbconvert_exporter": "python",
   "pygments_lexer": "ipython3",
   "version": "3.7.3"
  }
 },
 "nbformat": 4,
 "nbformat_minor": 2
}
