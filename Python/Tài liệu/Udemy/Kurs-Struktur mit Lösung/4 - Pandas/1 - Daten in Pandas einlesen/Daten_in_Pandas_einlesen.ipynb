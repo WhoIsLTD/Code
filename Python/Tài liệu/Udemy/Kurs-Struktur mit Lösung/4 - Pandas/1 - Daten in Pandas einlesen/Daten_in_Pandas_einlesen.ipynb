{
 "cells": [
  {
   "cell_type": "markdown",
   "metadata": {},
   "source": [
    "## Daten einlesen\n",
    "\n",
    "Wir haben Daten in einer CSV Datei über Autos die in Ebay verkauft wurden. In den folgenden Lektionen werden wir mit folgendem Dataset arbeiten und weiter untersuchen!\n",
    "\n",
    "Folgende Daten sind enthalten:\n",
    "\n",
    "\n",
    "- dateCrawled : when this ad was first crawled, all field-values are taken from this date\n",
    "- name : \"name\" of the car\n",
    "- seller : private or dealer\n",
    "- offerType\n",
    "- price : the price on the ad to sell the car\n",
    "- abtest\n",
    "- vehicleType\n",
    "- yearOfRegistration : at which year the car was first registered\n",
    "- gearbox\n",
    "- powerPS : power of the car in PS\n",
    "- model\n",
    "- kilometer : how many kilometers the car has driven\n",
    "- monthOfRegistration : at which month the car was first registered\n",
    "- fuelType\n",
    "- brand\n",
    "- notRepairedDamage : if the car has a damage which is not repaired yet\n",
    "- dateCreated : the date for which the ad at ebay was created\n",
    "- nrOfPictures : number of pictures in the ad \n",
    "- postalCode\n",
    "- lastSeenOnline : when the crawler saw this ad last online"
   ]
  },
  {
   "cell_type": "code",
   "execution_count": 1,
   "metadata": {},
   "outputs": [],
   "source": [
    "import numpy as np"
   ]
  },
  {
   "cell_type": "code",
   "execution_count": null,
   "metadata": {},
   "outputs": [],
   "source": []
  },
  {
   "cell_type": "code",
   "execution_count": null,
   "metadata": {},
   "outputs": [],
   "source": []
  },
  {
   "cell_type": "code",
   "execution_count": null,
   "metadata": {},
   "outputs": [],
   "source": []
  },
  {
   "cell_type": "code",
   "execution_count": null,
   "metadata": {},
   "outputs": [],
   "source": []
  }
 ],
 "metadata": {
  "kernelspec": {
   "display_name": "Python 3",
   "language": "python",
   "name": "python3"
  },
  "language_info": {
   "codemirror_mode": {
    "name": "ipython",
    "version": 3
   },
   "file_extension": ".py",
   "mimetype": "text/x-python",
   "name": "python",
   "nbconvert_exporter": "python",
   "pygments_lexer": "ipython3",
   "version": "3.7.3"
  }
 },
 "nbformat": 4,
 "nbformat_minor": 2
}
